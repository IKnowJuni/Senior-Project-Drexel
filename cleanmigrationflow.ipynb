{
 "cells": [
  {
   "cell_type": "code",
   "execution_count": 1,
   "metadata": {},
   "outputs": [],
   "source": [
    "#Import conventions\n",
    "import numpy as np\n",
    "import pandas as pd"
   ]
  },
  {
   "cell_type": "code",
   "execution_count": 12,
   "metadata": {},
   "outputs": [],
   "source": [
    "df2015 = pd.read_csv('C:/Users/Junaid/Projects/Migrator/CountyToCountyMigrationFlow/2015/alldata2015.csv')"
   ]
  },
  {
   "cell_type": "code",
   "execution_count": 13,
   "metadata": {},
   "outputs": [],
   "source": [
    "df2016 = pd.read_csv('C:/Users/Junaid/Projects/Migrator/CountyToCountyMigrationFlow/2016/alldata2016.csv')"
   ]
  },
  {
   "cell_type": "code",
   "execution_count": 14,
   "metadata": {},
   "outputs": [],
   "source": [
    "df2017 = pd.read_csv('C:/Users/Junaid/Projects/Migrator/CountyToCountyMigrationFlow/2017/alldata2017.csv')"
   ]
  },
  {
   "cell_type": "code",
   "execution_count": 15,
   "metadata": {},
   "outputs": [],
   "source": [
    "df2018 = pd.read_csv('C:/Users/Junaid/Projects/Migrator/CountyToCountyMigrationFlow/2018/alldata2018.csv')"
   ]
  },
  {
   "cell_type": "code",
   "execution_count": 16,
   "metadata": {},
   "outputs": [],
   "source": [
    "df2019 = pd.read_csv('C:/Users/Junaid/Projects/Migrator/CountyToCountyMigrationFlow/2019/alldata2019.csv')"
   ]
  },
  {
   "cell_type": "code",
   "execution_count": 38,
   "metadata": {},
   "outputs": [
    {
     "name": "stdout",
     "output_type": "stream",
     "text": [
      "<class 'pandas.core.frame.DataFrame'>\n",
      "RangeIndex: 445867 entries, 0 to 445866\n",
      "Data columns (total 17 columns):\n",
      " #   Column                                          Non-Null Count   Dtype  \n",
      "---  ------                                          --------------   -----  \n",
      " 0   Table with column headers in rows 2 through 3.  445867 non-null  int64  \n",
      " 1   Unnamed: 1                                      445867 non-null  int64  \n",
      " 2   Unnamed: 2                                      445867 non-null  object \n",
      " 3   Unnamed: 3                                      435593 non-null  float64\n",
      " 4   Unnamed: 4                                      445867 non-null  object \n",
      " 5   Unnamed: 5                                      445867 non-null  object \n",
      " 6   Unnamed: 6                                      445867 non-null  object \n",
      " 7   Unnamed: 7                                      445867 non-null  object \n",
      " 8   Unnamed: 8                                      445867 non-null  int64  \n",
      " 9   Unnamed: 9                                      445867 non-null  int64  \n",
      " 10  Unnamed: 10                                     435593 non-null  float64\n",
      " 11  Unnamed: 11                                     435593 non-null  float64\n",
      " 12  Unnamed: 12                                     435593 non-null  float64\n",
      " 13  Unnamed: 13                                     435593 non-null  float64\n",
      " 14  Unnamed: 14                                     435593 non-null  float64\n",
      " 15  Unnamed: 15                                     435593 non-null  float64\n",
      " 16  year                                            445867 non-null  int64  \n",
      "dtypes: float64(7), int64(5), object(5)\n",
      "memory usage: 57.8+ MB\n"
     ]
    }
   ],
   "source": [
    "df2017.info()"
   ]
  },
  {
   "cell_type": "code",
   "execution_count": 30,
   "metadata": {},
   "outputs": [],
   "source": [
    "#df2015ColumnNames = df2015.columns.values"
   ]
  },
  {
   "cell_type": "code",
   "execution_count": 31,
   "metadata": {},
   "outputs": [],
   "source": [
    "#df2015ColumnNames"
   ]
  },
  {
   "cell_type": "code",
   "execution_count": 25,
   "metadata": {},
   "outputs": [],
   "source": [
    "# columnNamesDict = {}"
   ]
  },
  {
   "cell_type": "code",
   "execution_count": 26,
   "metadata": {},
   "outputs": [],
   "source": [
    "# for i in df2015ColumnNames:\n",
    "#     columnNamesDict[i] = "
   ]
  },
  {
   "cell_type": "code",
   "execution_count": 29,
   "metadata": {},
   "outputs": [],
   "source": [
    "def changeColumnNames(df):\n",
    "    column_names = {\n",
    "        'Table with column headers in rows 2 through 3.': 'State Code A',\n",
    "        'Unnamed: 1': 'County Code A',\n",
    "        'Unnamed: 2': 'State Code B',\n",
    "        'Unnamed: 3': 'County Code B',\n",
    "        'Unnamed: 4': 'State A',\n",
    "        'Unnamed: 5': 'County A',\n",
    "        'Unnamed: 6': 'State B',\n",
    "        'Unnamed: 7': 'County B',\n",
    "        'Unnamed: 8': 'Inflow A',\n",
    "        'Unnamed: 9': 'Inflow A MOE',\n",
    "        'Unnamed: 10': 'Outflow A',\n",
    "        'Unnamed: 11': 'Outflow A MOE',\n",
    "        'Unnamed: 12': 'Net Migration B to A',\n",
    "        'Unnamed: 13': 'Net Migration MOE',\n",
    "        'Unnamed: 14': 'Gross Migration',\n",
    "        'Unnamed: 15': 'Gross Migration MOE',\n",
    "        'year': 'Data Year'\n",
    "    }\n",
    "\n",
    "    df.rename(columns = column_names, inplace = True)\n",
    "    \n",
    "    \n",
    "    \n",
    "    return df"
   ]
  },
  {
   "cell_type": "code",
   "execution_count": 34,
   "metadata": {},
   "outputs": [],
   "source": [
    "df2015 = changeColumnNames(df2015)"
   ]
  },
  {
   "cell_type": "code",
   "execution_count": 36,
   "metadata": {},
   "outputs": [
    {
     "name": "stdout",
     "output_type": "stream",
     "text": [
      "<class 'pandas.core.frame.DataFrame'>\n",
      "RangeIndex: 453257 entries, 0 to 453256\n",
      "Data columns (total 17 columns):\n",
      " #   Column                Non-Null Count   Dtype  \n",
      "---  ------                --------------   -----  \n",
      " 0   State Code A          453257 non-null  int64  \n",
      " 1   County Code A         453257 non-null  int64  \n",
      " 2   State Code B          453257 non-null  object \n",
      " 3   County Code B         442931 non-null  float64\n",
      " 4   State A               453257 non-null  object \n",
      " 5   County A              453257 non-null  object \n",
      " 6   State B               453257 non-null  object \n",
      " 7   County B              453257 non-null  object \n",
      " 8   Inflow A              453257 non-null  int64  \n",
      " 9   Inflow A MOE          453257 non-null  int64  \n",
      " 10  Outflow A             442931 non-null  float64\n",
      " 11  Outflow A MOE         442931 non-null  float64\n",
      " 12  Net Migration B to A  442931 non-null  float64\n",
      " 13  Net Migration MOE     442931 non-null  float64\n",
      " 14  Gross Migration       442931 non-null  float64\n",
      " 15  Gross Migration MOE   442931 non-null  float64\n",
      " 16  Data Year             453257 non-null  int64  \n",
      "dtypes: float64(7), int64(5), object(5)\n",
      "memory usage: 58.8+ MB\n"
     ]
    }
   ],
   "source": [
    "df2015.info()"
   ]
  },
  {
   "cell_type": "code",
   "execution_count": 39,
   "metadata": {},
   "outputs": [
    {
     "data": {
      "text/html": [
       "<div>\n",
       "<style scoped>\n",
       "    .dataframe tbody tr th:only-of-type {\n",
       "        vertical-align: middle;\n",
       "    }\n",
       "\n",
       "    .dataframe tbody tr th {\n",
       "        vertical-align: top;\n",
       "    }\n",
       "\n",
       "    .dataframe thead th {\n",
       "        text-align: right;\n",
       "    }\n",
       "</style>\n",
       "<table border=\"1\" class=\"dataframe\">\n",
       "  <thead>\n",
       "    <tr style=\"text-align: right;\">\n",
       "      <th></th>\n",
       "      <th>State Code A</th>\n",
       "      <th>County Code A</th>\n",
       "      <th>State Code B</th>\n",
       "      <th>County Code B</th>\n",
       "      <th>State A</th>\n",
       "      <th>County A</th>\n",
       "      <th>State B</th>\n",
       "      <th>County B</th>\n",
       "      <th>Inflow A</th>\n",
       "      <th>Inflow A MOE</th>\n",
       "      <th>Outflow A</th>\n",
       "      <th>Outflow A MOE</th>\n",
       "      <th>Net Migration B to A</th>\n",
       "      <th>Net Migration MOE</th>\n",
       "      <th>Gross Migration</th>\n",
       "      <th>Gross Migration MOE</th>\n",
       "      <th>Data Year</th>\n",
       "    </tr>\n",
       "  </thead>\n",
       "  <tbody>\n",
       "    <tr>\n",
       "      <th>0</th>\n",
       "      <td>1</td>\n",
       "      <td>1</td>\n",
       "      <td>001</td>\n",
       "      <td>3.0</td>\n",
       "      <td>Alabama</td>\n",
       "      <td>Autauga County</td>\n",
       "      <td>Alabama</td>\n",
       "      <td>Baldwin County</td>\n",
       "      <td>54</td>\n",
       "      <td>57</td>\n",
       "      <td>130.0</td>\n",
       "      <td>86.0</td>\n",
       "      <td>-76.0</td>\n",
       "      <td>103.0</td>\n",
       "      <td>184.0</td>\n",
       "      <td>103.0</td>\n",
       "      <td>2015</td>\n",
       "    </tr>\n",
       "    <tr>\n",
       "      <th>1</th>\n",
       "      <td>1</td>\n",
       "      <td>1</td>\n",
       "      <td>001</td>\n",
       "      <td>5.0</td>\n",
       "      <td>Alabama</td>\n",
       "      <td>Autauga County</td>\n",
       "      <td>Alabama</td>\n",
       "      <td>Barbour County</td>\n",
       "      <td>6</td>\n",
       "      <td>13</td>\n",
       "      <td>0.0</td>\n",
       "      <td>21.0</td>\n",
       "      <td>6.0</td>\n",
       "      <td>13.0</td>\n",
       "      <td>6.0</td>\n",
       "      <td>13.0</td>\n",
       "      <td>2015</td>\n",
       "    </tr>\n",
       "    <tr>\n",
       "      <th>2</th>\n",
       "      <td>1</td>\n",
       "      <td>1</td>\n",
       "      <td>001</td>\n",
       "      <td>7.0</td>\n",
       "      <td>Alabama</td>\n",
       "      <td>Autauga County</td>\n",
       "      <td>Alabama</td>\n",
       "      <td>Bibb County</td>\n",
       "      <td>0</td>\n",
       "      <td>27</td>\n",
       "      <td>149.0</td>\n",
       "      <td>164.0</td>\n",
       "      <td>-149.0</td>\n",
       "      <td>164.0</td>\n",
       "      <td>149.0</td>\n",
       "      <td>164.0</td>\n",
       "      <td>2015</td>\n",
       "    </tr>\n",
       "    <tr>\n",
       "      <th>3</th>\n",
       "      <td>1</td>\n",
       "      <td>1</td>\n",
       "      <td>001</td>\n",
       "      <td>9.0</td>\n",
       "      <td>Alabama</td>\n",
       "      <td>Autauga County</td>\n",
       "      <td>Alabama</td>\n",
       "      <td>Blount County</td>\n",
       "      <td>3</td>\n",
       "      <td>5</td>\n",
       "      <td>0.0</td>\n",
       "      <td>27.0</td>\n",
       "      <td>3.0</td>\n",
       "      <td>5.0</td>\n",
       "      <td>3.0</td>\n",
       "      <td>5.0</td>\n",
       "      <td>2015</td>\n",
       "    </tr>\n",
       "    <tr>\n",
       "      <th>4</th>\n",
       "      <td>1</td>\n",
       "      <td>1</td>\n",
       "      <td>001</td>\n",
       "      <td>11.0</td>\n",
       "      <td>Alabama</td>\n",
       "      <td>Autauga County</td>\n",
       "      <td>Alabama</td>\n",
       "      <td>Bullock County</td>\n",
       "      <td>7</td>\n",
       "      <td>13</td>\n",
       "      <td>6.0</td>\n",
       "      <td>12.0</td>\n",
       "      <td>1.0</td>\n",
       "      <td>17.0</td>\n",
       "      <td>13.0</td>\n",
       "      <td>18.0</td>\n",
       "      <td>2015</td>\n",
       "    </tr>\n",
       "  </tbody>\n",
       "</table>\n",
       "</div>"
      ],
      "text/plain": [
       "   State Code A  County Code A State Code B  County Code B  State A  \\\n",
       "0             1              1          001            3.0  Alabama   \n",
       "1             1              1          001            5.0  Alabama   \n",
       "2             1              1          001            7.0  Alabama   \n",
       "3             1              1          001            9.0  Alabama   \n",
       "4             1              1          001           11.0  Alabama   \n",
       "\n",
       "         County A  State B        County B  Inflow A  Inflow A MOE  Outflow A  \\\n",
       "0  Autauga County  Alabama  Baldwin County        54            57      130.0   \n",
       "1  Autauga County  Alabama  Barbour County         6            13        0.0   \n",
       "2  Autauga County  Alabama     Bibb County         0            27      149.0   \n",
       "3  Autauga County  Alabama   Blount County         3             5        0.0   \n",
       "4  Autauga County  Alabama  Bullock County         7            13        6.0   \n",
       "\n",
       "   Outflow A MOE  Net Migration B to A  Net Migration MOE  Gross Migration  \\\n",
       "0           86.0                 -76.0              103.0            184.0   \n",
       "1           21.0                   6.0               13.0              6.0   \n",
       "2          164.0                -149.0              164.0            149.0   \n",
       "3           27.0                   3.0                5.0              3.0   \n",
       "4           12.0                   1.0               17.0             13.0   \n",
       "\n",
       "   Gross Migration MOE  Data Year  \n",
       "0                103.0       2015  \n",
       "1                 13.0       2015  \n",
       "2                164.0       2015  \n",
       "3                  5.0       2015  \n",
       "4                 18.0       2015  "
      ]
     },
     "execution_count": 39,
     "metadata": {},
     "output_type": "execute_result"
    }
   ],
   "source": [
    "df2015.head()"
   ]
  }
 ],
 "metadata": {
  "kernelspec": {
   "display_name": "Python 3",
   "language": "python",
   "name": "python3"
  },
  "language_info": {
   "codemirror_mode": {
    "name": "ipython",
    "version": 3
   },
   "file_extension": ".py",
   "mimetype": "text/x-python",
   "name": "python",
   "nbconvert_exporter": "python",
   "pygments_lexer": "ipython3",
   "version": "3.8.5"
  }
 },
 "nbformat": 4,
 "nbformat_minor": 4
}
