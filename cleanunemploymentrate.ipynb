{
 "cells": [
  {
   "cell_type": "code",
   "execution_count": 1,
   "metadata": {},
   "outputs": [],
   "source": [
    "#Import conventions\n",
    "import numpy as np\n",
    "import pandas as pd"
   ]
  },
  {
   "cell_type": "code",
   "execution_count": 12,
   "metadata": {},
   "outputs": [],
   "source": [
    "df2015 = pd.read_csv('C:/Users/Junaid/Projects/Migrator/CountyToCountyMigrationFlow/2015/alldata2015.csv')"
   ]
  },
  {
   "cell_type": "code",
   "execution_count": 13,
   "metadata": {},
   "outputs": [],
   "source": [
    "df2016 = pd.read_csv('C:/Users/Junaid/Projects/Migrator/CountyToCountyMigrationFlow/2016/alldata2016.csv')"
   ]
  },
  {
   "cell_type": "code",
   "execution_count": 14,
   "metadata": {},
   "outputs": [],
   "source": [
    "df2017 = pd.read_csv('C:/Users/Junaid/Projects/Migrator/CountyToCountyMigrationFlow/2017/alldata2017.csv')"
   ]
  },
  {
   "cell_type": "code",
   "execution_count": 15,
   "metadata": {},
   "outputs": [],
   "source": [
    "df2018 = pd.read_csv('C:/Users/Junaid/Projects/Migrator/CountyToCountyMigrationFlow/2018/alldata2018.csv')"
   ]
  },
  {
   "cell_type": "code",
   "execution_count": 16,
   "metadata": {},
   "outputs": [],
   "source": [
    "df2019 = pd.read_csv('C:/Users/Junaid/Projects/Migrator/CountyToCountyMigrationFlow/2019/alldata2019.csv')"
   ]
  },
  {
   "cell_type": "code",
   "execution_count": 33,
   "metadata": {},
   "outputs": [
    {
     "name": "stdout",
     "output_type": "stream",
     "text": [
      "<class 'pandas.core.frame.DataFrame'>\n",
      "RangeIndex: 453257 entries, 0 to 453256\n",
      "Data columns (total 17 columns):\n",
      " #   Column                                          Non-Null Count   Dtype  \n",
      "---  ------                                          --------------   -----  \n",
      " 0   Table with column headers in rows 2 through 3.  453257 non-null  int64  \n",
      " 1   Unnamed: 1                                      453257 non-null  int64  \n",
      " 2   Unnamed: 2                                      453257 non-null  object \n",
      " 3   Unnamed: 3                                      442931 non-null  float64\n",
      " 4   Unnamed: 4                                      453257 non-null  object \n",
      " 5   Unnamed: 5                                      453257 non-null  object \n",
      " 6   Unnamed: 6                                      453257 non-null  object \n",
      " 7   Unnamed: 7                                      453257 non-null  object \n",
      " 8   Unnamed: 8                                      453257 non-null  int64  \n",
      " 9   Unnamed: 9                                      453257 non-null  int64  \n",
      " 10  Unnamed: 10                                     442931 non-null  float64\n",
      " 11  Unnamed: 11                                     442931 non-null  float64\n",
      " 12  Unnamed: 12                                     442931 non-null  float64\n",
      " 13  Unnamed: 13                                     442931 non-null  float64\n",
      " 14  Unnamed: 14                                     442931 non-null  float64\n",
      " 15  Unnamed: 15                                     442931 non-null  float64\n",
      " 16  year                                            453257 non-null  int64  \n",
      "dtypes: float64(7), int64(5), object(5)\n",
      "memory usage: 58.8+ MB\n"
     ]
    }
   ],
   "source": [
    "df2015.info()"
   ]
  },
  {
   "cell_type": "code",
   "execution_count": 30,
   "metadata": {},
   "outputs": [],
   "source": [
    "#df2015ColumnNames = df2015.columns.values"
   ]
  },
  {
   "cell_type": "code",
   "execution_count": 31,
   "metadata": {},
   "outputs": [],
   "source": [
    "#df2015ColumnNames"
   ]
  },
  {
   "cell_type": "code",
   "execution_count": 25,
   "metadata": {},
   "outputs": [],
   "source": [
    "# columnNamesDict = {}"
   ]
  },
  {
   "cell_type": "code",
   "execution_count": 26,
   "metadata": {},
   "outputs": [],
   "source": [
    "# for i in df2015ColumnNames:\n",
    "#     columnNamesDict[i] = "
   ]
  },
  {
   "cell_type": "code",
   "execution_count": 29,
   "metadata": {},
   "outputs": [],
   "source": [
    "def changeColumnNames(df):\n",
    "    column_names = {\n",
    "        'Table with column headers in rows 2 through 3.': 'State Code A',\n",
    "        'Unnamed: 1': 'County Code A',\n",
    "        'Unnamed: 2': 'State Code B',\n",
    "        'Unnamed: 3': 'County Code B',\n",
    "        'Unnamed: 4': 'State A',\n",
    "        'Unnamed: 5': 'County A',\n",
    "        'Unnamed: 6': 'State B',\n",
    "        'Unnamed: 7': 'County B',\n",
    "        'Unnamed: 8': 'Inflow A',\n",
    "        'Unnamed: 9': 'Inflow A MOE',\n",
    "        'Unnamed: 10': 'Outflow A',\n",
    "        'Unnamed: 11': 'Outflow A MOE',\n",
    "        'Unnamed: 12': 'Net Migration B to A',\n",
    "        'Unnamed: 13': 'Net Migration MOE',\n",
    "        'Unnamed: 14': 'Gross Migration',\n",
    "        'Unnamed: 15': 'Gross Migration MOE',\n",
    "        'year': 'Data Year'\n",
    "    }\n",
    "\n",
    "    df.rename(columns = column_names, inplace = True)\n",
    "    \n",
    "    \n",
    "    \n",
    "    return df"
   ]
  },
  {
   "cell_type": "code",
   "execution_count": 34,
   "metadata": {},
   "outputs": [],
   "source": [
    "df2015 = changeColumnNames(df2015)"
   ]
  },
  {
   "cell_type": "code",
   "execution_count": 36,
   "metadata": {},
   "outputs": [
    {
     "name": "stdout",
     "output_type": "stream",
     "text": [
      "<class 'pandas.core.frame.DataFrame'>\n",
      "RangeIndex: 453257 entries, 0 to 453256\n",
      "Data columns (total 17 columns):\n",
      " #   Column                Non-Null Count   Dtype  \n",
      "---  ------                --------------   -----  \n",
      " 0   State Code A          453257 non-null  int64  \n",
      " 1   County Code A         453257 non-null  int64  \n",
      " 2   State Code B          453257 non-null  object \n",
      " 3   County Code B         442931 non-null  float64\n",
      " 4   State A               453257 non-null  object \n",
      " 5   County A              453257 non-null  object \n",
      " 6   State B               453257 non-null  object \n",
      " 7   County B              453257 non-null  object \n",
      " 8   Inflow A              453257 non-null  int64  \n",
      " 9   Inflow A MOE          453257 non-null  int64  \n",
      " 10  Outflow A             442931 non-null  float64\n",
      " 11  Outflow A MOE         442931 non-null  float64\n",
      " 12  Net Migration B to A  442931 non-null  float64\n",
      " 13  Net Migration MOE     442931 non-null  float64\n",
      " 14  Gross Migration       442931 non-null  float64\n",
      " 15  Gross Migration MOE   442931 non-null  float64\n",
      " 16  Data Year             453257 non-null  int64  \n",
      "dtypes: float64(7), int64(5), object(5)\n",
      "memory usage: 58.8+ MB\n"
     ]
    }
   ],
   "source": [
    "df2015.info()"
   ]
  }
 ],
 "metadata": {
  "kernelspec": {
   "display_name": "Python 3",
   "language": "python",
   "name": "python3"
  },
  "language_info": {
   "codemirror_mode": {
    "name": "ipython",
    "version": 3
   },
   "file_extension": ".py",
   "mimetype": "text/x-python",
   "name": "python",
   "nbconvert_exporter": "python",
   "pygments_lexer": "ipython3",
   "version": "3.8.5"
  }
 },
 "nbformat": 4,
 "nbformat_minor": 4
}
