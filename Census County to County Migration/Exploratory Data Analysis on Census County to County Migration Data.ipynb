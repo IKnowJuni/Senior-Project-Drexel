{
 "cells": [
  {
   "cell_type": "markdown",
   "metadata": {
    "id": "4iIqJsI3vWG8"
   },
   "source": [
    "**Name:** Junaid Asim <br/>\n",
    "**Project:** Migrator <br/>\n",
    "**Senior Project I** <br/>"
   ]
  },
  {
   "cell_type": "markdown",
   "metadata": {
    "id": "1c0cmK1zvWHE"
   },
   "source": [
    "## Business Understanding\n",
    "\n",
    "#### Purpose:\n",
    "Information about the census and reason for choosing this data."
   ]
  },
  {
   "cell_type": "markdown",
   "metadata": {
    "id": "kgspBSttvWHF"
   },
   "source": [
    "## Data Understanding"
   ]
  },
  {
   "cell_type": "code",
   "execution_count": 1,
   "metadata": {
    "id": "NkPhM7iGvWHG"
   },
   "outputs": [],
   "source": [
    "#Import conventions\n",
    "import numpy as np\n",
    "import pandas as pd\n",
    "import matplotlib.pyplot as plt\n",
    "%matplotlib inline\n",
    "import seaborn as sns\n",
    "import plotly.graph_objs as go"
   ]
  },
  {
   "cell_type": "markdown",
   "metadata": {
    "id": "JyBzdmWcvWHI"
   },
   "source": [
    "#### Acquire data"
   ]
  },
  {
   "cell_type": "markdown",
   "metadata": {
    "id": "aUesYXi3vWHJ"
   },
   "source": [
    "Acquiring dataset into Pandas DataFrames. Data set was taken from census.\n",
    "Link: https://www.census.gov/data/tables/2019/demo/geographic-mobility/county-to-county-migration-2015-2019.html"
   ]
  },
  {
   "cell_type": "code",
   "execution_count": 3,
   "metadata": {
    "colab": {
     "base_uri": "https://localhost:8080/",
     "height": 320
    },
    "id": "wXi_DRluvWHK",
    "outputId": "ee4120a9-4bc7-4297-845a-732348ff61d0"
   },
   "outputs": [],
   "source": [
    "df = pd.read_csv('C:/Users/JunaidAsim/Projects/Migration Data/inoutnetgross/combined_file.csv')"
   ]
  },
  {
   "cell_type": "code",
   "execution_count": 4,
   "metadata": {
    "id": "3mTC7O7JvWHL"
   },
   "outputs": [],
   "source": [
    "df1 = df.copy()"
   ]
  },
  {
   "cell_type": "code",
   "execution_count": 6,
   "metadata": {
    "id": "1YHWsDbnvWHQ",
    "outputId": "6aaefb05-5ed7-476b-b01b-06f336de77a9"
   },
   "outputs": [
    {
     "name": "stdout",
     "output_type": "stream",
     "text": [
      "['Table with column headers in rows 2 through 3.' 'Unnamed: 1'\n",
      " 'Unnamed: 2' 'Unnamed: 3' 'Unnamed: 4' 'Unnamed: 5' 'Unnamed: 6'\n",
      " 'Unnamed: 7' 'Unnamed: 8' 'Unnamed: 9' 'Unnamed: 10' 'Unnamed: 11'\n",
      " 'Unnamed: 12' 'Unnamed: 13' 'Unnamed: 14' 'Unnamed: 15']\n"
     ]
    }
   ],
   "source": [
    "print(df1.columns.values)"
   ]
  },
  {
   "cell_type": "code",
   "execution_count": 7,
   "metadata": {
    "id": "HzzuoZjavWHR"
   },
   "outputs": [],
   "source": [
    "column_names = {\n",
    "    'Table with column headers in rows 2 through 3.': 'State Code A',\n",
    "    'Unnamed: 1': 'FIPS County Code of A',\n",
    "    'Unnamed: 2': 'SIFR Code of B',\n",
    "    'Unnamed: 3': 'FIPS County Code of A',\n",
    "    'Unnamed: 4': 'State Name of A',\n",
    "    'Unnamed: 5': 'County Name of A',\n",
    "    'Unnamed: 6': 'SIFR Name of B',\n",
    "    'Unnamed: 7': 'County Name of B',\n",
    "    'Unnamed: 8': 'Flow from B to A',\n",
    "    'Unnamed: 9': 'MOE1',\n",
    "    'Unnamed: 10': 'Counterflow from A to B',\n",
    "    'Unnamed: 11': 'MOE2',\n",
    "    'Unnamed: 12': 'Net Migration from B to A',\n",
    "    'Unnamed: 13': 'MOE3',\n",
    "    'Unnamed: 14': 'Gross Migration between A and B',\n",
    "    'Unnamed: 15': 'MOE4'\n",
    "}\n",
    "\n",
    "df1.rename(columns = column_names, inplace = True)"
   ]
  },
  {
   "cell_type": "code",
   "execution_count": 8,
   "metadata": {
    "id": "kHkgJzS9vWHT",
    "outputId": "4d9f1c79-4ff5-4252-c447-d512f3908902"
   },
   "outputs": [
    {
     "data": {
      "text/html": [
       "<div>\n",
       "<style scoped>\n",
       "    .dataframe tbody tr th:only-of-type {\n",
       "        vertical-align: middle;\n",
       "    }\n",
       "\n",
       "    .dataframe tbody tr th {\n",
       "        vertical-align: top;\n",
       "    }\n",
       "\n",
       "    .dataframe thead th {\n",
       "        text-align: right;\n",
       "    }\n",
       "</style>\n",
       "<table border=\"1\" class=\"dataframe\">\n",
       "  <thead>\n",
       "    <tr style=\"text-align: right;\">\n",
       "      <th></th>\n",
       "      <th>State Code A</th>\n",
       "      <th>FIPS County Code of A</th>\n",
       "      <th>SIFR Code of B</th>\n",
       "      <th>FIPS County Code of A</th>\n",
       "      <th>State Name of A</th>\n",
       "      <th>County Name of A</th>\n",
       "      <th>SIFR Name of B</th>\n",
       "      <th>County Name of B</th>\n",
       "      <th>Flow from B to A</th>\n",
       "      <th>MOE1</th>\n",
       "      <th>Counterflow from A to B</th>\n",
       "      <th>MOE2</th>\n",
       "      <th>Net Migration from B to A</th>\n",
       "      <th>MOE3</th>\n",
       "      <th>Gross Migration between A and B</th>\n",
       "      <th>MOE4</th>\n",
       "    </tr>\n",
       "  </thead>\n",
       "  <tbody>\n",
       "    <tr>\n",
       "      <th>0</th>\n",
       "      <td>1</td>\n",
       "      <td>1</td>\n",
       "      <td>001</td>\n",
       "      <td>3.0</td>\n",
       "      <td>Alabama</td>\n",
       "      <td>Autauga County</td>\n",
       "      <td>Alabama</td>\n",
       "      <td>Baldwin County</td>\n",
       "      <td>25</td>\n",
       "      <td>26</td>\n",
       "      <td>448.0</td>\n",
       "      <td>461.0</td>\n",
       "      <td>-423.0</td>\n",
       "      <td>461.0</td>\n",
       "      <td>473.0</td>\n",
       "      <td>463.0</td>\n",
       "    </tr>\n",
       "    <tr>\n",
       "      <th>1</th>\n",
       "      <td>1</td>\n",
       "      <td>1</td>\n",
       "      <td>001</td>\n",
       "      <td>5.0</td>\n",
       "      <td>Alabama</td>\n",
       "      <td>Autauga County</td>\n",
       "      <td>Alabama</td>\n",
       "      <td>Barbour County</td>\n",
       "      <td>4</td>\n",
       "      <td>8</td>\n",
       "      <td>0.0</td>\n",
       "      <td>22.0</td>\n",
       "      <td>4.0</td>\n",
       "      <td>8.0</td>\n",
       "      <td>4.0</td>\n",
       "      <td>8.0</td>\n",
       "    </tr>\n",
       "    <tr>\n",
       "      <th>2</th>\n",
       "      <td>1</td>\n",
       "      <td>1</td>\n",
       "      <td>001</td>\n",
       "      <td>7.0</td>\n",
       "      <td>Alabama</td>\n",
       "      <td>Autauga County</td>\n",
       "      <td>Alabama</td>\n",
       "      <td>Bibb County</td>\n",
       "      <td>10</td>\n",
       "      <td>16</td>\n",
       "      <td>34.0</td>\n",
       "      <td>52.0</td>\n",
       "      <td>-24.0</td>\n",
       "      <td>54.0</td>\n",
       "      <td>44.0</td>\n",
       "      <td>54.0</td>\n",
       "    </tr>\n",
       "    <tr>\n",
       "      <th>3</th>\n",
       "      <td>1</td>\n",
       "      <td>1</td>\n",
       "      <td>001</td>\n",
       "      <td>9.0</td>\n",
       "      <td>Alabama</td>\n",
       "      <td>Autauga County</td>\n",
       "      <td>Alabama</td>\n",
       "      <td>Blount County</td>\n",
       "      <td>3</td>\n",
       "      <td>6</td>\n",
       "      <td>0.0</td>\n",
       "      <td>28.0</td>\n",
       "      <td>3.0</td>\n",
       "      <td>6.0</td>\n",
       "      <td>3.0</td>\n",
       "      <td>6.0</td>\n",
       "    </tr>\n",
       "    <tr>\n",
       "      <th>4</th>\n",
       "      <td>1</td>\n",
       "      <td>1</td>\n",
       "      <td>001</td>\n",
       "      <td>15.0</td>\n",
       "      <td>Alabama</td>\n",
       "      <td>Autauga County</td>\n",
       "      <td>Alabama</td>\n",
       "      <td>Calhoun County</td>\n",
       "      <td>2</td>\n",
       "      <td>4</td>\n",
       "      <td>42.0</td>\n",
       "      <td>46.0</td>\n",
       "      <td>-40.0</td>\n",
       "      <td>47.0</td>\n",
       "      <td>44.0</td>\n",
       "      <td>46.0</td>\n",
       "    </tr>\n",
       "  </tbody>\n",
       "</table>\n",
       "</div>"
      ],
      "text/plain": [
       "   State Code A  FIPS County Code of A SIFR Code of B  FIPS County Code of A  \\\n",
       "0             1                      1            001                    3.0   \n",
       "1             1                      1            001                    5.0   \n",
       "2             1                      1            001                    7.0   \n",
       "3             1                      1            001                    9.0   \n",
       "4             1                      1            001                   15.0   \n",
       "\n",
       "  State Name of A County Name of A SIFR Name of B County Name of B  \\\n",
       "0         Alabama   Autauga County        Alabama   Baldwin County   \n",
       "1         Alabama   Autauga County        Alabama   Barbour County   \n",
       "2         Alabama   Autauga County        Alabama      Bibb County   \n",
       "3         Alabama   Autauga County        Alabama    Blount County   \n",
       "4         Alabama   Autauga County        Alabama   Calhoun County   \n",
       "\n",
       "   Flow from B to A  MOE1  Counterflow from A to B   MOE2  \\\n",
       "0                25    26                    448.0  461.0   \n",
       "1                 4     8                      0.0   22.0   \n",
       "2                10    16                     34.0   52.0   \n",
       "3                 3     6                      0.0   28.0   \n",
       "4                 2     4                     42.0   46.0   \n",
       "\n",
       "   Net Migration from B to A   MOE3  Gross Migration between A and B   MOE4  \n",
       "0                     -423.0  461.0                            473.0  463.0  \n",
       "1                        4.0    8.0                              4.0    8.0  \n",
       "2                      -24.0   54.0                             44.0   54.0  \n",
       "3                        3.0    6.0                              3.0    6.0  \n",
       "4                      -40.0   47.0                             44.0   46.0  "
      ]
     },
     "execution_count": 8,
     "metadata": {},
     "output_type": "execute_result"
    }
   ],
   "source": [
    "df1.head(5)"
   ]
  },
  {
   "cell_type": "code",
   "execution_count": 9,
   "metadata": {
    "id": "_ZalRfN7vWHT",
    "outputId": "1c8abef8-45a8-4ede-8074-3fe1fd64f121"
   },
   "outputs": [
    {
     "name": "stdout",
     "output_type": "stream",
     "text": [
      "['State Code A' 'FIPS County Code of A' 'SIFR Code of B'\n",
      " 'FIPS County Code of A' 'State Name of A' 'County Name of A'\n",
      " 'SIFR Name of B' 'County Name of B' 'Flow from B to A' 'MOE1'\n",
      " 'Counterflow from A to B' 'MOE2' 'Net Migration from B to A' 'MOE3'\n",
      " 'Gross Migration between A and B' 'MOE4']\n"
     ]
    }
   ],
   "source": [
    "print(df1.columns.values)"
   ]
  },
  {
   "cell_type": "markdown",
   "metadata": {
    "id": "sdVSKXOsvWHU"
   },
   "source": [
    "### Understand the meanings and type of data fields\n",
    "#### Data Dictionary\n",
    "\n",
    "**Variable Definition Key** <br/>\n",
    "**State Code A**  <br/>\n",
    "**FIPS County Code of A**  <br/>\n",
    "**SIFR Code of B**  <br/>\n",
    "**FIPS County Code of A**  <br/>\n",
    "**State Name of A**  <br/>\n",
    "**County Name of A** <br/>\n",
    "**SIFR Name of B**  <br/>\n",
    "**County Name of B**  <br/>\n",
    "**Flow from B to A**  <br/>\n",
    "**Counterflow from A to B**  <br/>\n",
    "**Net Migration from B to A**  <br/>\n",
    "**Gross Migration between A and B**  <br/>\n",
    "**MOE1**  <br/>\n",
    "**MOE2** <br/>\n",
    "**MOE3** <br/>\n",
    "**MOE4** <br/>"
   ]
  },
  {
   "cell_type": "markdown",
   "metadata": {
    "id": "Gk4GoQ9lvWHV"
   },
   "source": [
    "**categorical**\n",
    "\n",
    "- All the names and codes of the countries, resgion, county, state.\n",
    "\n",
    "**numerical**\n",
    "\n",
    "- Estimated values and MOE"
   ]
  },
  {
   "cell_type": "markdown",
   "metadata": {
    "id": "2zZii0bUvWHW"
   },
   "source": [
    "**data types**"
   ]
  },
  {
   "cell_type": "code",
   "execution_count": 10,
   "metadata": {
    "id": "GL6L5F2rvWHW",
    "outputId": "2437967c-0eb8-458d-9991-2df30331f82e",
    "scrolled": false
   },
   "outputs": [
    {
     "data": {
      "text/plain": [
       "State Code A                         int64\n",
       "FIPS County Code of A                int64\n",
       "SIFR Code of B                      object\n",
       "FIPS County Code of A              float64\n",
       "State Name of A                     object\n",
       "County Name of A                    object\n",
       "SIFR Name of B                      object\n",
       "County Name of B                    object\n",
       "Flow from B to A                     int64\n",
       "MOE1                                 int64\n",
       "Counterflow from A to B            float64\n",
       "MOE2                               float64\n",
       "Net Migration from B to A          float64\n",
       "MOE3                               float64\n",
       "Gross Migration between A and B    float64\n",
       "MOE4                               float64\n",
       "dtype: object"
      ]
     },
     "execution_count": 10,
     "metadata": {},
     "output_type": "execute_result"
    }
   ],
   "source": [
    "df1.dtypes"
   ]
  },
  {
   "cell_type": "markdown",
   "metadata": {
    "id": "OQmSb6tqvWHX"
   },
   "source": [
    "Helping us during converting the goal.\n",
    "\n",
    "- All are object as in string type we can change types for the estimates and moe columns to whole number"
   ]
  },
  {
   "cell_type": "code",
   "execution_count": 11,
   "metadata": {
    "id": "hr6VqkOkvWHY",
    "outputId": "b4af8b2c-8073-40b2-892a-91a9f9b020db"
   },
   "outputs": [
    {
     "name": "stdout",
     "output_type": "stream",
     "text": [
      "<class 'pandas.core.frame.DataFrame'>\n",
      "RangeIndex: 436944 entries, 0 to 436943\n",
      "Data columns (total 16 columns):\n",
      " #   Column                           Non-Null Count   Dtype  \n",
      "---  ------                           --------------   -----  \n",
      " 0   State Code A                     436944 non-null  int64  \n",
      " 1   FIPS County Code of A            436944 non-null  int64  \n",
      " 2   SIFR Code of B                   436944 non-null  object \n",
      " 3   FIPS County Code of A            426676 non-null  float64\n",
      " 4   State Name of A                  436944 non-null  object \n",
      " 5   County Name of A                 436944 non-null  object \n",
      " 6   SIFR Name of B                   436944 non-null  object \n",
      " 7   County Name of B                 436944 non-null  object \n",
      " 8   Flow from B to A                 436944 non-null  int64  \n",
      " 9   MOE1                             436944 non-null  int64  \n",
      " 10  Counterflow from A to B          426676 non-null  float64\n",
      " 11  MOE2                             426676 non-null  float64\n",
      " 12  Net Migration from B to A        426676 non-null  float64\n",
      " 13  MOE3                             426676 non-null  float64\n",
      " 14  Gross Migration between A and B  426676 non-null  float64\n",
      " 15  MOE4                             426676 non-null  float64\n",
      "dtypes: float64(7), int64(4), object(5)\n",
      "memory usage: 53.3+ MB\n"
     ]
    }
   ],
   "source": [
    "df1.info()"
   ]
  },
  {
   "cell_type": "code",
   "execution_count": 12,
   "metadata": {
    "id": "nXCWN0rHvWHY",
    "outputId": "411da50d-c8eb-4110-d1db-9bffd5fa5644"
   },
   "outputs": [
    {
     "data": {
      "text/plain": [
       "State Code A                           0\n",
       "FIPS County Code of A                  0\n",
       "SIFR Code of B                         0\n",
       "FIPS County Code of A              10268\n",
       "State Name of A                        0\n",
       "County Name of A                       0\n",
       "SIFR Name of B                         0\n",
       "County Name of B                       0\n",
       "Flow from B to A                       0\n",
       "MOE1                                   0\n",
       "Counterflow from A to B            10268\n",
       "MOE2                               10268\n",
       "Net Migration from B to A          10268\n",
       "MOE3                               10268\n",
       "Gross Migration between A and B    10268\n",
       "MOE4                               10268\n",
       "dtype: int64"
      ]
     },
     "execution_count": 12,
     "metadata": {},
     "output_type": "execute_result"
    }
   ],
   "source": [
    "df1.isnull().sum()"
   ]
  },
  {
   "cell_type": "markdown",
   "metadata": {
    "id": "pYMAtGqVvWHZ"
   },
   "source": [
    "**missing values**\n",
    "\n",
    "- Many of the columns are missing values, as we can see above. The total range is 437358. We need to still clean the data for better results."
   ]
  },
  {
   "cell_type": "code",
   "execution_count": 13,
   "metadata": {
    "id": "QaPHEzbIvWHZ",
    "outputId": "ac2d4c22-0035-4558-976f-70ea01bd3836"
   },
   "outputs": [
    {
     "data": {
      "text/plain": [
       "0"
      ]
     },
     "execution_count": 13,
     "metadata": {},
     "output_type": "execute_result"
    }
   ],
   "source": [
    "df1.duplicated().sum()"
   ]
  },
  {
   "cell_type": "markdown",
   "metadata": {
    "id": "YL267PmFvWHb"
   },
   "source": [
    "**duplicate values & outliers**\n",
    "\n",
    "- There are couple duplicate values in the data. We can detect outliers using visualization or z-score. For visualization, we can use a box plot or scatterplot. As you can see in the below example of how we are planning to use a box plot on the Flow from B to A column. It will help us take out outliers from the dataset and those values that mistake."
   ]
  },
  {
   "cell_type": "code",
   "execution_count": 14,
   "metadata": {
    "id": "Gv3jGlhCvWHb",
    "outputId": "eea607ec-8e83-4ae9-d84c-55036d7327ca"
   },
   "outputs": [],
   "source": [
    "df1['Flow from B to A'] = pd.to_numeric(df1['Flow from B to A'])"
   ]
  },
  {
   "cell_type": "code",
   "execution_count": 15,
   "metadata": {
    "id": "IrvyoGuavWHc",
    "outputId": "acadbb45-b92a-4d87-bdc6-c5f0ab37bfa6"
   },
   "outputs": [
    {
     "name": "stderr",
     "output_type": "stream",
     "text": [
      "C:\\Users\\JunaidAsim\\anaconda3\\lib\\site-packages\\seaborn\\_decorators.py:36: FutureWarning: Pass the following variable as a keyword arg: x. From version 0.12, the only valid positional argument will be `data`, and passing other arguments without an explicit keyword will result in an error or misinterpretation.\n",
      "  warnings.warn(\n"
     ]
    },
    {
     "data": {
      "text/plain": [
       "<AxesSubplot:xlabel='Flow from B to A'>"
      ]
     },
     "execution_count": 15,
     "metadata": {},
     "output_type": "execute_result"
    },
    {
     "data": {
      "image/png": "[encoded data removed]",
      "text/plain": [
       "<Figure size 432x288 with 1 Axes>"
      ]
     },
     "metadata": {
      "needs_background": "light"
     },
     "output_type": "display_data"
    }
   ],
   "source": [
    "sns.boxplot(df1['Flow from B to A'])"
   ]
  },
  {
   "cell_type": "code",
   "execution_count": 16,
   "metadata": {
    "id": "lpHN8HgdvWHc",
    "outputId": "c743130a-3991-476c-e449-a4cb862b72b1"
   },
   "outputs": [
    {
     "data": {
      "text/html": [
       "<div>\n",
       "<style scoped>\n",
       "    .dataframe tbody tr th:only-of-type {\n",
       "        vertical-align: middle;\n",
       "    }\n",
       "\n",
       "    .dataframe tbody tr th {\n",
       "        vertical-align: top;\n",
       "    }\n",
       "\n",
       "    .dataframe thead th {\n",
       "        text-align: right;\n",
       "    }\n",
       "</style>\n",
       "<table border=\"1\" class=\"dataframe\">\n",
       "  <thead>\n",
       "    <tr style=\"text-align: right;\">\n",
       "      <th></th>\n",
       "      <th>State Code A</th>\n",
       "      <th>FIPS County Code of A</th>\n",
       "      <th>FIPS County Code of A</th>\n",
       "      <th>Flow from B to A</th>\n",
       "      <th>MOE1</th>\n",
       "      <th>Counterflow from A to B</th>\n",
       "      <th>MOE2</th>\n",
       "      <th>Net Migration from B to A</th>\n",
       "      <th>MOE3</th>\n",
       "      <th>Gross Migration between A and B</th>\n",
       "      <th>MOE4</th>\n",
       "    </tr>\n",
       "  </thead>\n",
       "  <tbody>\n",
       "    <tr>\n",
       "      <th>count</th>\n",
       "      <td>436944.000000</td>\n",
       "      <td>436944.000000</td>\n",
       "      <td>426676.000000</td>\n",
       "      <td>436944.000000</td>\n",
       "      <td>436944.000000</td>\n",
       "      <td>426676.000000</td>\n",
       "      <td>426676.000000</td>\n",
       "      <td>426676.000000</td>\n",
       "      <td>426676.000000</td>\n",
       "      <td>426676.000000</td>\n",
       "      <td>426676.000000</td>\n",
       "    </tr>\n",
       "    <tr>\n",
       "      <th>mean</th>\n",
       "      <td>30.093692</td>\n",
       "      <td>98.932442</td>\n",
       "      <td>98.988891</td>\n",
       "      <td>45.832159</td>\n",
       "      <td>41.762448</td>\n",
       "      <td>42.312612</td>\n",
       "      <td>40.840589</td>\n",
       "      <td>0.000000</td>\n",
       "      <td>53.825741</td>\n",
       "      <td>84.625224</td>\n",
       "      <td>53.835852</td>\n",
       "    </tr>\n",
       "    <tr>\n",
       "      <th>std</th>\n",
       "      <td>16.117702</td>\n",
       "      <td>112.505559</td>\n",
       "      <td>112.590685</td>\n",
       "      <td>316.048795</td>\n",
       "      <td>64.289578</td>\n",
       "      <td>286.972616</td>\n",
       "      <td>61.031068</td>\n",
       "      <td>146.398836</td>\n",
       "      <td>85.830437</td>\n",
       "      <td>554.959918</td>\n",
       "      <td>85.940025</td>\n",
       "    </tr>\n",
       "    <tr>\n",
       "      <th>min</th>\n",
       "      <td>1.000000</td>\n",
       "      <td>1.000000</td>\n",
       "      <td>1.000000</td>\n",
       "      <td>0.000000</td>\n",
       "      <td>1.000000</td>\n",
       "      <td>0.000000</td>\n",
       "      <td>1.000000</td>\n",
       "      <td>-20809.000000</td>\n",
       "      <td>1.000000</td>\n",
       "      <td>1.000000</td>\n",
       "      <td>1.000000</td>\n",
       "    </tr>\n",
       "    <tr>\n",
       "      <th>25%</th>\n",
       "      <td>17.000000</td>\n",
       "      <td>31.000000</td>\n",
       "      <td>31.000000</td>\n",
       "      <td>0.000000</td>\n",
       "      <td>18.000000</td>\n",
       "      <td>0.000000</td>\n",
       "      <td>18.000000</td>\n",
       "      <td>-16.000000</td>\n",
       "      <td>14.000000</td>\n",
       "      <td>8.000000</td>\n",
       "      <td>14.000000</td>\n",
       "    </tr>\n",
       "    <tr>\n",
       "      <th>50%</th>\n",
       "      <td>29.000000</td>\n",
       "      <td>73.000000</td>\n",
       "      <td>73.000000</td>\n",
       "      <td>7.000000</td>\n",
       "      <td>27.000000</td>\n",
       "      <td>7.000000</td>\n",
       "      <td>27.000000</td>\n",
       "      <td>0.000000</td>\n",
       "      <td>28.000000</td>\n",
       "      <td>20.000000</td>\n",
       "      <td>28.000000</td>\n",
       "    </tr>\n",
       "    <tr>\n",
       "      <th>75%</th>\n",
       "      <td>45.000000</td>\n",
       "      <td>123.000000</td>\n",
       "      <td>123.000000</td>\n",
       "      <td>28.000000</td>\n",
       "      <td>36.000000</td>\n",
       "      <td>27.000000</td>\n",
       "      <td>35.000000</td>\n",
       "      <td>16.000000</td>\n",
       "      <td>60.000000</td>\n",
       "      <td>53.000000</td>\n",
       "      <td>60.000000</td>\n",
       "    </tr>\n",
       "    <tr>\n",
       "      <th>max</th>\n",
       "      <td>72.000000</td>\n",
       "      <td>840.000000</td>\n",
       "      <td>840.000000</td>\n",
       "      <td>37932.000000</td>\n",
       "      <td>2882.000000</td>\n",
       "      <td>37436.000000</td>\n",
       "      <td>2882.000000</td>\n",
       "      <td>20809.000000</td>\n",
       "      <td>3223.000000</td>\n",
       "      <td>62993.000000</td>\n",
       "      <td>3207.000000</td>\n",
       "    </tr>\n",
       "  </tbody>\n",
       "</table>\n",
       "</div>"
      ],
      "text/plain": [
       "        State Code A  FIPS County Code of A  FIPS County Code of A  \\\n",
       "count  436944.000000          436944.000000          426676.000000   \n",
       "mean       30.093692              98.932442              98.988891   \n",
       "std        16.117702             112.505559             112.590685   \n",
       "min         1.000000               1.000000               1.000000   \n",
       "25%        17.000000              31.000000              31.000000   \n",
       "50%        29.000000              73.000000              73.000000   \n",
       "75%        45.000000             123.000000             123.000000   \n",
       "max        72.000000             840.000000             840.000000   \n",
       "\n",
       "       Flow from B to A           MOE1  Counterflow from A to B  \\\n",
       "count     436944.000000  436944.000000            426676.000000   \n",
       "mean          45.832159      41.762448                42.312612   \n",
       "std          316.048795      64.289578               286.972616   \n",
       "min            0.000000       1.000000                 0.000000   \n",
       "25%            0.000000      18.000000                 0.000000   \n",
       "50%            7.000000      27.000000                 7.000000   \n",
       "75%           28.000000      36.000000                27.000000   \n",
       "max        37932.000000    2882.000000             37436.000000   \n",
       "\n",
       "                MOE2  Net Migration from B to A           MOE3  \\\n",
       "count  426676.000000              426676.000000  426676.000000   \n",
       "mean       40.840589                   0.000000      53.825741   \n",
       "std        61.031068                 146.398836      85.830437   \n",
       "min         1.000000              -20809.000000       1.000000   \n",
       "25%        18.000000                 -16.000000      14.000000   \n",
       "50%        27.000000                   0.000000      28.000000   \n",
       "75%        35.000000                  16.000000      60.000000   \n",
       "max      2882.000000               20809.000000    3223.000000   \n",
       "\n",
       "       Gross Migration between A and B           MOE4  \n",
       "count                    426676.000000  426676.000000  \n",
       "mean                         84.625224      53.835852  \n",
       "std                         554.959918      85.940025  \n",
       "min                           1.000000       1.000000  \n",
       "25%                           8.000000      14.000000  \n",
       "50%                          20.000000      28.000000  \n",
       "75%                          53.000000      60.000000  \n",
       "max                       62993.000000    3207.000000  "
      ]
     },
     "execution_count": 16,
     "metadata": {},
     "output_type": "execute_result"
    }
   ],
   "source": [
    "df1.describe()"
   ]
  },
  {
   "cell_type": "markdown",
   "metadata": {
    "id": "dBPzbSKSvWHd"
   },
   "source": [
    "**statistics for the most important attributes**\n",
    "\n",
    "- "
   ]
  },
  {
   "cell_type": "code",
   "execution_count": 18,
   "metadata": {
    "id": "Wp9ionSmvWHd",
    "outputId": "b5ae1e1a-0fb6-4804-ad5f-75f8ddea39b8"
   },
   "outputs": [
    {
     "data": {
      "text/html": [
       "<div>\n",
       "<style scoped>\n",
       "    .dataframe tbody tr th:only-of-type {\n",
       "        vertical-align: middle;\n",
       "    }\n",
       "\n",
       "    .dataframe tbody tr th {\n",
       "        vertical-align: top;\n",
       "    }\n",
       "\n",
       "    .dataframe thead th {\n",
       "        text-align: right;\n",
       "    }\n",
       "</style>\n",
       "<table border=\"1\" class=\"dataframe\">\n",
       "  <thead>\n",
       "    <tr style=\"text-align: right;\">\n",
       "      <th></th>\n",
       "      <th>State Code A</th>\n",
       "      <th>FIPS County Code of A</th>\n",
       "      <th>FIPS County Code of A</th>\n",
       "      <th>Flow from B to A</th>\n",
       "      <th>MOE1</th>\n",
       "      <th>Counterflow from A to B</th>\n",
       "      <th>MOE2</th>\n",
       "      <th>Net Migration from B to A</th>\n",
       "      <th>MOE3</th>\n",
       "      <th>Gross Migration between A and B</th>\n",
       "      <th>MOE4</th>\n",
       "    </tr>\n",
       "  </thead>\n",
       "  <tbody>\n",
       "    <tr>\n",
       "      <th>count</th>\n",
       "      <td>436944.000000</td>\n",
       "      <td>436944.000000</td>\n",
       "      <td>426676.000000</td>\n",
       "      <td>436944.000000</td>\n",
       "      <td>436944.000000</td>\n",
       "      <td>426676.000000</td>\n",
       "      <td>426676.000000</td>\n",
       "      <td>426676.000000</td>\n",
       "      <td>426676.000000</td>\n",
       "      <td>426676.000000</td>\n",
       "      <td>426676.000000</td>\n",
       "    </tr>\n",
       "    <tr>\n",
       "      <th>mean</th>\n",
       "      <td>30.093692</td>\n",
       "      <td>98.932442</td>\n",
       "      <td>98.988891</td>\n",
       "      <td>45.832159</td>\n",
       "      <td>41.762448</td>\n",
       "      <td>42.312612</td>\n",
       "      <td>40.840589</td>\n",
       "      <td>0.000000</td>\n",
       "      <td>53.825741</td>\n",
       "      <td>84.625224</td>\n",
       "      <td>53.835852</td>\n",
       "    </tr>\n",
       "    <tr>\n",
       "      <th>std</th>\n",
       "      <td>16.117702</td>\n",
       "      <td>112.505559</td>\n",
       "      <td>112.590685</td>\n",
       "      <td>316.048795</td>\n",
       "      <td>64.289578</td>\n",
       "      <td>286.972616</td>\n",
       "      <td>61.031068</td>\n",
       "      <td>146.398836</td>\n",
       "      <td>85.830437</td>\n",
       "      <td>554.959918</td>\n",
       "      <td>85.940025</td>\n",
       "    </tr>\n",
       "    <tr>\n",
       "      <th>min</th>\n",
       "      <td>1.000000</td>\n",
       "      <td>1.000000</td>\n",
       "      <td>1.000000</td>\n",
       "      <td>0.000000</td>\n",
       "      <td>1.000000</td>\n",
       "      <td>0.000000</td>\n",
       "      <td>1.000000</td>\n",
       "      <td>-20809.000000</td>\n",
       "      <td>1.000000</td>\n",
       "      <td>1.000000</td>\n",
       "      <td>1.000000</td>\n",
       "    </tr>\n",
       "    <tr>\n",
       "      <th>10%</th>\n",
       "      <td>8.000000</td>\n",
       "      <td>11.000000</td>\n",
       "      <td>11.000000</td>\n",
       "      <td>0.000000</td>\n",
       "      <td>9.000000</td>\n",
       "      <td>0.000000</td>\n",
       "      <td>9.000000</td>\n",
       "      <td>-47.000000</td>\n",
       "      <td>7.000000</td>\n",
       "      <td>4.000000</td>\n",
       "      <td>7.000000</td>\n",
       "    </tr>\n",
       "    <tr>\n",
       "      <th>20%</th>\n",
       "      <td>13.000000</td>\n",
       "      <td>25.000000</td>\n",
       "      <td>25.000000</td>\n",
       "      <td>0.000000</td>\n",
       "      <td>15.000000</td>\n",
       "      <td>0.000000</td>\n",
       "      <td>15.000000</td>\n",
       "      <td>-22.000000</td>\n",
       "      <td>11.000000</td>\n",
       "      <td>7.000000</td>\n",
       "      <td>11.000000</td>\n",
       "    </tr>\n",
       "    <tr>\n",
       "      <th>30%</th>\n",
       "      <td>19.000000</td>\n",
       "      <td>37.000000</td>\n",
       "      <td>37.000000</td>\n",
       "      <td>0.000000</td>\n",
       "      <td>20.000000</td>\n",
       "      <td>0.000000</td>\n",
       "      <td>20.000000</td>\n",
       "      <td>-12.000000</td>\n",
       "      <td>16.000000</td>\n",
       "      <td>10.000000</td>\n",
       "      <td>16.000000</td>\n",
       "    </tr>\n",
       "    <tr>\n",
       "      <th>40%</th>\n",
       "      <td>25.000000</td>\n",
       "      <td>55.000000</td>\n",
       "      <td>55.000000</td>\n",
       "      <td>2.000000</td>\n",
       "      <td>24.000000</td>\n",
       "      <td>2.000000</td>\n",
       "      <td>24.000000</td>\n",
       "      <td>-6.000000</td>\n",
       "      <td>21.000000</td>\n",
       "      <td>14.000000</td>\n",
       "      <td>21.000000</td>\n",
       "    </tr>\n",
       "    <tr>\n",
       "      <th>50%</th>\n",
       "      <td>29.000000</td>\n",
       "      <td>73.000000</td>\n",
       "      <td>73.000000</td>\n",
       "      <td>7.000000</td>\n",
       "      <td>27.000000</td>\n",
       "      <td>7.000000</td>\n",
       "      <td>27.000000</td>\n",
       "      <td>0.000000</td>\n",
       "      <td>28.000000</td>\n",
       "      <td>20.000000</td>\n",
       "      <td>28.000000</td>\n",
       "    </tr>\n",
       "    <tr>\n",
       "      <th>60%</th>\n",
       "      <td>37.000000</td>\n",
       "      <td>91.000000</td>\n",
       "      <td>91.000000</td>\n",
       "      <td>13.000000</td>\n",
       "      <td>29.000000</td>\n",
       "      <td>12.000000</td>\n",
       "      <td>29.000000</td>\n",
       "      <td>6.000000</td>\n",
       "      <td>37.000000</td>\n",
       "      <td>29.000000</td>\n",
       "      <td>37.000000</td>\n",
       "    </tr>\n",
       "    <tr>\n",
       "      <th>70%</th>\n",
       "      <td>41.000000</td>\n",
       "      <td>111.000000</td>\n",
       "      <td>111.000000</td>\n",
       "      <td>21.000000</td>\n",
       "      <td>32.000000</td>\n",
       "      <td>20.000000</td>\n",
       "      <td>32.000000</td>\n",
       "      <td>12.000000</td>\n",
       "      <td>51.000000</td>\n",
       "      <td>43.000000</td>\n",
       "      <td>51.000000</td>\n",
       "    </tr>\n",
       "    <tr>\n",
       "      <th>80%</th>\n",
       "      <td>47.000000</td>\n",
       "      <td>139.000000</td>\n",
       "      <td>139.000000</td>\n",
       "      <td>37.000000</td>\n",
       "      <td>46.000000</td>\n",
       "      <td>36.000000</td>\n",
       "      <td>45.000000</td>\n",
       "      <td>22.000000</td>\n",
       "      <td>74.000000</td>\n",
       "      <td>68.000000</td>\n",
       "      <td>73.000000</td>\n",
       "    </tr>\n",
       "    <tr>\n",
       "      <th>90%</th>\n",
       "      <td>51.000000</td>\n",
       "      <td>185.000000</td>\n",
       "      <td>185.000000</td>\n",
       "      <td>79.000000</td>\n",
       "      <td>84.000000</td>\n",
       "      <td>76.000000</td>\n",
       "      <td>81.000000</td>\n",
       "      <td>47.000000</td>\n",
       "      <td>123.000000</td>\n",
       "      <td>137.000000</td>\n",
       "      <td>123.000000</td>\n",
       "    </tr>\n",
       "    <tr>\n",
       "      <th>99%</th>\n",
       "      <td>72.000000</td>\n",
       "      <td>670.000000</td>\n",
       "      <td>670.000000</td>\n",
       "      <td>586.000000</td>\n",
       "      <td>307.000000</td>\n",
       "      <td>520.000000</td>\n",
       "      <td>293.000000</td>\n",
       "      <td>233.000000</td>\n",
       "      <td>389.000000</td>\n",
       "      <td>999.000000</td>\n",
       "      <td>390.000000</td>\n",
       "    </tr>\n",
       "    <tr>\n",
       "      <th>max</th>\n",
       "      <td>72.000000</td>\n",
       "      <td>840.000000</td>\n",
       "      <td>840.000000</td>\n",
       "      <td>37932.000000</td>\n",
       "      <td>2882.000000</td>\n",
       "      <td>37436.000000</td>\n",
       "      <td>2882.000000</td>\n",
       "      <td>20809.000000</td>\n",
       "      <td>3223.000000</td>\n",
       "      <td>62993.000000</td>\n",
       "      <td>3207.000000</td>\n",
       "    </tr>\n",
       "  </tbody>\n",
       "</table>\n",
       "</div>"
      ],
      "text/plain": [
       "        State Code A  FIPS County Code of A  FIPS County Code of A  \\\n",
       "count  436944.000000          436944.000000          426676.000000   \n",
       "mean       30.093692              98.932442              98.988891   \n",
       "std        16.117702             112.505559             112.590685   \n",
       "min         1.000000               1.000000               1.000000   \n",
       "10%         8.000000              11.000000              11.000000   \n",
       "20%        13.000000              25.000000              25.000000   \n",
       "30%        19.000000              37.000000              37.000000   \n",
       "40%        25.000000              55.000000              55.000000   \n",
       "50%        29.000000              73.000000              73.000000   \n",
       "60%        37.000000              91.000000              91.000000   \n",
       "70%        41.000000             111.000000             111.000000   \n",
       "80%        47.000000             139.000000             139.000000   \n",
       "90%        51.000000             185.000000             185.000000   \n",
       "99%        72.000000             670.000000             670.000000   \n",
       "max        72.000000             840.000000             840.000000   \n",
       "\n",
       "       Flow from B to A           MOE1  Counterflow from A to B  \\\n",
       "count     436944.000000  436944.000000            426676.000000   \n",
       "mean          45.832159      41.762448                42.312612   \n",
       "std          316.048795      64.289578               286.972616   \n",
       "min            0.000000       1.000000                 0.000000   \n",
       "10%            0.000000       9.000000                 0.000000   \n",
       "20%            0.000000      15.000000                 0.000000   \n",
       "30%            0.000000      20.000000                 0.000000   \n",
       "40%            2.000000      24.000000                 2.000000   \n",
       "50%            7.000000      27.000000                 7.000000   \n",
       "60%           13.000000      29.000000                12.000000   \n",
       "70%           21.000000      32.000000                20.000000   \n",
       "80%           37.000000      46.000000                36.000000   \n",
       "90%           79.000000      84.000000                76.000000   \n",
       "99%          586.000000     307.000000               520.000000   \n",
       "max        37932.000000    2882.000000             37436.000000   \n",
       "\n",
       "                MOE2  Net Migration from B to A           MOE3  \\\n",
       "count  426676.000000              426676.000000  426676.000000   \n",
       "mean       40.840589                   0.000000      53.825741   \n",
       "std        61.031068                 146.398836      85.830437   \n",
       "min         1.000000              -20809.000000       1.000000   \n",
       "10%         9.000000                 -47.000000       7.000000   \n",
       "20%        15.000000                 -22.000000      11.000000   \n",
       "30%        20.000000                 -12.000000      16.000000   \n",
       "40%        24.000000                  -6.000000      21.000000   \n",
       "50%        27.000000                   0.000000      28.000000   \n",
       "60%        29.000000                   6.000000      37.000000   \n",
       "70%        32.000000                  12.000000      51.000000   \n",
       "80%        45.000000                  22.000000      74.000000   \n",
       "90%        81.000000                  47.000000     123.000000   \n",
       "99%       293.000000                 233.000000     389.000000   \n",
       "max      2882.000000               20809.000000    3223.000000   \n",
       "\n",
       "       Gross Migration between A and B           MOE4  \n",
       "count                    426676.000000  426676.000000  \n",
       "mean                         84.625224      53.835852  \n",
       "std                         554.959918      85.940025  \n",
       "min                           1.000000       1.000000  \n",
       "10%                           4.000000       7.000000  \n",
       "20%                           7.000000      11.000000  \n",
       "30%                          10.000000      16.000000  \n",
       "40%                          14.000000      21.000000  \n",
       "50%                          20.000000      28.000000  \n",
       "60%                          29.000000      37.000000  \n",
       "70%                          43.000000      51.000000  \n",
       "80%                          68.000000      73.000000  \n",
       "90%                         137.000000     123.000000  \n",
       "99%                         999.000000     390.000000  \n",
       "max                       62993.000000    3207.000000  "
      ]
     },
     "execution_count": 18,
     "metadata": {},
     "output_type": "execute_result"
    }
   ],
   "source": [
    "df1.describe(percentiles=[.1, .2, .3, .4, .5, .6, .7, .8, .9, .99])"
   ]
  },
  {
   "cell_type": "markdown",
   "metadata": {
    "id": "VUpKj0wBvWHe"
   },
   "source": [
    "**statistics for the most important attributes**\n",
    "\n",
    "- All percentiles can also be used to help us understand these values better. We can also use minimum and maximum values to understand the minimum number of people moved."
   ]
  },
  {
   "cell_type": "code",
   "execution_count": 20,
   "metadata": {
    "id": "1AryxoChvWHe",
    "outputId": "359c2353-5869-4b32-aef8-ceb5ee41cb38"
   },
   "outputs": [
    {
     "data": {
      "text/html": [
       "<div>\n",
       "<style scoped>\n",
       "    .dataframe tbody tr th:only-of-type {\n",
       "        vertical-align: middle;\n",
       "    }\n",
       "\n",
       "    .dataframe tbody tr th {\n",
       "        vertical-align: top;\n",
       "    }\n",
       "\n",
       "    .dataframe thead th {\n",
       "        text-align: right;\n",
       "    }\n",
       "</style>\n",
       "<table border=\"1\" class=\"dataframe\">\n",
       "  <thead>\n",
       "    <tr style=\"text-align: right;\">\n",
       "      <th></th>\n",
       "      <th>SIFR Code of B</th>\n",
       "      <th>State Name of A</th>\n",
       "      <th>County Name of A</th>\n",
       "      <th>SIFR Name of B</th>\n",
       "      <th>County Name of B</th>\n",
       "    </tr>\n",
       "  </thead>\n",
       "  <tbody>\n",
       "    <tr>\n",
       "      <th>count</th>\n",
       "      <td>436944</td>\n",
       "      <td>436944</td>\n",
       "      <td>436944</td>\n",
       "      <td>436944</td>\n",
       "      <td>436944</td>\n",
       "    </tr>\n",
       "    <tr>\n",
       "      <th>unique</th>\n",
       "      <td>61</td>\n",
       "      <td>52</td>\n",
       "      <td>1955</td>\n",
       "      <td>61</td>\n",
       "      <td>1956</td>\n",
       "    </tr>\n",
       "    <tr>\n",
       "      <th>top</th>\n",
       "      <td>048</td>\n",
       "      <td>Texas</td>\n",
       "      <td>Jefferson County</td>\n",
       "      <td>Texas</td>\n",
       "      <td>-</td>\n",
       "    </tr>\n",
       "    <tr>\n",
       "      <th>freq</th>\n",
       "      <td>31256</td>\n",
       "      <td>31923</td>\n",
       "      <td>4709</td>\n",
       "      <td>31256</td>\n",
       "      <td>10268</td>\n",
       "    </tr>\n",
       "  </tbody>\n",
       "</table>\n",
       "</div>"
      ],
      "text/plain": [
       "       SIFR Code of B State Name of A  County Name of A SIFR Name of B  \\\n",
       "count          436944          436944            436944         436944   \n",
       "unique             61              52              1955             61   \n",
       "top               048           Texas  Jefferson County          Texas   \n",
       "freq            31256           31923              4709          31256   \n",
       "\n",
       "       County Name of B  \n",
       "count            436944  \n",
       "unique             1956  \n",
       "top                   -  \n",
       "freq              10268  "
      ]
     },
     "execution_count": 20,
     "metadata": {},
     "output_type": "execute_result"
    }
   ],
   "source": [
    "df1.describe(include = ['O'])"
   ]
  },
  {
   "cell_type": "markdown",
   "metadata": {
    "id": "LSwf8PUKvWHf"
   },
   "source": [
    "**statistics for the most important attributes**\n",
    "\n",
    "- "
   ]
  },
  {
   "cell_type": "code",
   "execution_count": 22,
   "metadata": {
    "id": "Q7edP42gvWHk",
    "outputId": "9e8f0f7b-3791-47ee-812a-6d303638c9bf"
   },
   "outputs": [
    {
     "data": {
      "text/plain": [
       "<AxesSubplot:xlabel='State Name of A'>"
      ]
     },
     "execution_count": 22,
     "metadata": {},
     "output_type": "execute_result"
    },
    {
     "data": {
      "image/png": "[encoded data removed]",
      "text/plain": [
       "<Figure size 1080x576 with 1 Axes>"
      ]
     },
     "metadata": {
      "needs_background": "light"
     },
     "output_type": "display_data"
    }
   ],
   "source": [
    "h = df1.groupby('County Name of A').head(1)\n",
    "h.plot(x = 'State Name of A', y = 'Flow from B to A', figsize = (15,8))"
   ]
  },
  {
   "cell_type": "markdown",
   "metadata": {
    "id": "7MiXZ6OrvWHk"
   },
   "source": [
    "This line graph represents the number of people killed in the different senate districts. It grouped around state_senate_district data, which show the death of people in that district of senate due to gun shooting violence."
   ]
  },
  {
   "cell_type": "markdown",
   "metadata": {
    "id": "26K6G-ZFvWHl"
   },
   "source": [
    "**Relationship between attribute**"
   ]
  },
  {
   "cell_type": "code",
   "execution_count": 25,
   "metadata": {
    "id": "6G8cLmvfvWHl"
   },
   "outputs": [],
   "source": [
    "cor = df1[['State Code A', 'FIPS County Code of A', 'SIFR Code of B', 'FIPS County Code of A', 'Flow from B to A', 'Counterflow from A to B', 'Net Migration from B to A', 'Gross Migration between A and B']]"
   ]
  },
  {
   "cell_type": "code",
   "execution_count": 26,
   "metadata": {
    "id": "6b_PF9PhvWHl",
    "outputId": "79e609bf-bf86-4bc6-ba41-f37bbdd00e73"
   },
   "outputs": [
    {
     "data": {
      "text/plain": [
       "<AxesSubplot:>"
      ]
     },
     "execution_count": 26,
     "metadata": {},
     "output_type": "execute_result"
    },
    {
     "data": {
      "image/png": "[encoded data removed]",
      "text/plain": [
       "<Figure size 432x288 with 2 Axes>"
      ]
     },
     "metadata": {
      "needs_background": "light"
     },
     "output_type": "display_data"
    }
   ],
   "source": [
    "sns.heatmap(cor.corr(),annot=True)"
   ]
  },
  {
   "cell_type": "markdown",
   "metadata": {
    "id": "MQwL47txvWHm"
   },
   "source": [
    "**Relationship between features and the class** "
   ]
  },
  {
   "cell_type": "code",
   "execution_count": 27,
   "metadata": {
    "id": "MGkClaw2vWHm",
    "outputId": "ba3b84a1-6ebf-47b3-bd4d-54c00df7cf90"
   },
   "outputs": [
    {
     "name": "stdout",
     "output_type": "stream",
     "text": [
      "State Name of A\n",
      "Alabama                  274535\n",
      "Alaska                    54835\n",
      "Arizona                  430739\n",
      "Arkansas                 193756\n",
      "California              1884482\n",
      "Colorado                 540870\n",
      "Connecticut              177859\n",
      "Delaware                  52564\n",
      "District of Columbia      65938\n",
      "Florida                 1458314\n",
      "Georgia                  825405\n",
      "Hawaii                    75365\n",
      "Idaho                    135168\n",
      "Illinois                 594645\n",
      "Indiana                  416299\n",
      "Iowa                     202494\n",
      "Kansas                   206134\n",
      "Kentucky                 292767\n",
      "Louisiana                241953\n",
      "Maine                     76865\n",
      "Maryland                 380821\n",
      "Massachusetts            402834\n",
      "Michigan                 553197\n",
      "Minnesota                382963\n",
      "Mississippi              178839\n",
      "Missouri                 425627\n",
      "Montana                   78970\n",
      "Nebraska                 129688\n",
      "Nevada                   172632\n",
      "New Hampshire             90486\n",
      "New Jersey               428082\n",
      "New Mexico               116784\n",
      "New York                 885523\n",
      "North Carolina           753299\n",
      "North Dakota              65797\n",
      "Ohio                     640185\n",
      "Oklahoma                 282819\n",
      "Oregon                   310103\n",
      "Pennsylvania             655554\n",
      "Puerto Rico              106552\n",
      "Rhode Island              59281\n",
      "South Carolina           352892\n",
      "South Dakota              70312\n",
      "Tennessee                426528\n",
      "Texas                   1852567\n",
      "Utah                     221816\n",
      "Vermont                   38387\n",
      "Virginia                 745991\n",
      "Washington               547118\n",
      "West Virginia             94589\n",
      "Wisconsin                331095\n",
      "Wyoming                   43769\n",
      "Name: Flow from B to A, dtype: int64\n"
     ]
    },
    {
     "data": {
      "image/png": "[encoded data removed]",
      "text/plain": [
       "<Figure size 864x504 with 1 Axes>"
      ]
     },
     "metadata": {
      "needs_background": "light"
     },
     "output_type": "display_data"
    }
   ],
   "source": [
    "test = df1.groupby(['State Name of A'])['Flow from B to A'].agg('sum')\n",
    "test.plot(figsize=(12,7))\n",
    "print(test)"
   ]
  },
  {
   "cell_type": "code",
   "execution_count": 30,
   "metadata": {},
   "outputs": [],
   "source": [
    "df1.to_csv('refinedcombined_file.csv', index=False)"
   ]
  },
  {
   "cell_type": "markdown",
   "metadata": {
    "id": "4HLmP-GwvWHo"
   },
   "source": [
    "The END."
   ]
  }
 ],
 "metadata": {
  "colab": {
   "name": "Exploratory Data Analysis on Census County to County Migration Data.ipynb",
   "provenance": []
  },
  "kernelspec": {
   "display_name": "Python 3",
   "language": "python",
   "name": "python3"
  },
  "language_info": {
   "codemirror_mode": {
    "name": "ipython",
    "version": 3
   },
   "file_extension": ".py",
   "mimetype": "text/x-python",
   "name": "python",
   "nbconvert_exporter": "python",
   "pygments_lexer": "ipython3",
   "version": "3.8.8"
  }
 },
 "nbformat": 4,
 "nbformat_minor": 1
}
