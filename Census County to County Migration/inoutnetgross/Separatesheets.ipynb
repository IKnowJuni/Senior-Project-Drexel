{
 "cells": [
  {
   "cell_type": "code",
   "execution_count": 17,
   "metadata": {},
   "outputs": [],
   "source": [
    "import os\n",
    "import pandas as pd"
   ]
  },
  {
   "cell_type": "code",
   "execution_count": 18,
   "metadata": {},
   "outputs": [],
   "source": [
    "cwd = os.path.abspath('')"
   ]
  },
  {
   "cell_type": "code",
   "execution_count": 19,
   "metadata": {},
   "outputs": [],
   "source": [
    "files = os.listdir(cwd)"
   ]
  },
  {
   "cell_type": "code",
   "execution_count": 20,
   "metadata": {},
   "outputs": [
    {
     "data": {
      "text/plain": [
       "'C:\\\\Users\\\\JunaidAsim\\\\Projects\\\\Migration Data\\\\inoutnetgross'"
      ]
     },
     "execution_count": 20,
     "metadata": {},
     "output_type": "execute_result"
    }
   ],
   "source": [
    "cwd"
   ]
  },
  {
   "cell_type": "code",
   "execution_count": 21,
   "metadata": {},
   "outputs": [
    {
     "data": {
      "text/plain": [
       "['.ipynb_checkpoints',\n",
       " 'inoutnetgross.xlsx',\n",
       " 'Separatesheets.ipynb',\n",
       " 'Separatesheets.py']"
      ]
     },
     "execution_count": 21,
     "metadata": {},
     "output_type": "execute_result"
    }
   ],
   "source": [
    "files"
   ]
  },
  {
   "cell_type": "code",
   "execution_count": 22,
   "metadata": {},
   "outputs": [],
   "source": [
    "## Method 2 gets all sheets of a given file\n",
    "df_total = pd.DataFrame()"
   ]
  },
  {
   "cell_type": "code",
   "execution_count": 23,
   "metadata": {},
   "outputs": [],
   "source": [
    "# loop through Excel files\n",
    "for file in files:\n",
    "    if file.endswith('.xlsx'):\n",
    "        excel_file = pd.ExcelFile(file)\n",
    "        sheets = excel_file.sheet_names\n",
    "        # loop through sheets inside an Excel file\n",
    "        for sheet in sheets:\n",
    "            df = excel_file.parse(sheet_name = sheet)\n",
    "            df = df.iloc[2:]\n",
    "            df = df.iloc[:-6]\n",
    "            df_total = df_total.append(df)\n",
    "df_total.to_csv('combined_file.csv', index=False)"
   ]
  },
  {
   "cell_type": "code",
   "execution_count": 1,
   "metadata": {
    "id": "lVaa5ZjGzxTU"
   },
   "outputs": [],
   "source": [
    "# import xlwings as xw"
   ]
  },
  {
   "cell_type": "code",
   "execution_count": 2,
   "metadata": {
    "id": "GSPFxovnzxTc"
   },
   "outputs": [],
   "source": [
    "# file = 'inoutnetgross.xlsx'"
   ]
  },
  {
   "cell_type": "code",
   "execution_count": 3,
   "metadata": {
    "id": "zhnmg95zzxTe"
   },
   "outputs": [],
   "source": [
    "# try:\n",
    "#     excelapp = xw.App(visible=False)\n",
    "#     wb = excelapp.books.open(file)\n",
    "#     for i in wb.sheets:\n",
    "#         i.api.Copy()\n",
    "#         newwb = xw.books.active\n",
    "#         newwb.save(f'{i.name}.csv')\n",
    "#         newwb.close()\n",
    "# finally:\n",
    "#     excelapp.quit()"
   ]
  },
  {
   "cell_type": "code",
   "execution_count": null,
   "metadata": {},
   "outputs": [],
   "source": [
    "## Method 1 gets the first sheet of a given file\n",
    "# df = pd.DataFrame()"
   ]
  },
  {
   "cell_type": "code",
   "execution_count": null,
   "metadata": {},
   "outputs": [],
   "source": [
    "# for file in files:\n",
    "#     if file.endswith('.xlsx'):\n",
    "#         df = df.append(pd.read_excel(file), ignore_index=True) \n",
    "# df.head() \n",
    "# df.to_excel('total_sales.xlsx')"
   ]
  },
  {
   "cell_type": "markdown",
   "metadata": {
    "id": "un4lEZvnzxTm"
   },
   "source": [
    "# The END."
   ]
  }
 ],
 "metadata": {
  "colab": {
   "name": "Separatesheets.ipynb",
   "provenance": []
  },
  "kernelspec": {
   "display_name": "Python 3",
   "language": "python",
   "name": "python3"
  },
  "language_info": {
   "codemirror_mode": {
    "name": "ipython",
    "version": 3
   },
   "file_extension": ".py",
   "mimetype": "text/x-python",
   "name": "python",
   "nbconvert_exporter": "python",
   "pygments_lexer": "ipython3",
   "version": "3.8.8"
  }
 },
 "nbformat": 4,
 "nbformat_minor": 1
}
