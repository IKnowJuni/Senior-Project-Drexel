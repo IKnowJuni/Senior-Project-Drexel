{
 "cells": [
  {
   "cell_type": "markdown",
   "metadata": {},
   "source": [
    "Combing All County Inflow Data"
   ]
  },
  {
   "cell_type": "code",
   "execution_count": 4,
   "metadata": {},
   "outputs": [],
   "source": [
    "import pandas as pd\n",
    "import os\n",
    "#import glob\n"
   ]
  },
  {
   "cell_type": "code",
   "execution_count": 5,
   "metadata": {},
   "outputs": [],
   "source": [
    "#input_loc = r\"C:\\Users\\Ayaz Rathod\\Desktop\\MigrationData\\countyInflow\"\n",
    "#output_loc = r\"C:\\Users\\Ayaz Rathod\\Desktop\\MigrationData\"\n",
    "a = os.path.abspath('')"
   ]
  },
  {
   "cell_type": "code",
   "execution_count": 6,
   "metadata": {},
   "outputs": [
    {
     "data": {
      "text/plain": [
       "['.ipynb_checkpoints',\n",
       " 'countyinflow1516.csv',\n",
       " 'countyinflow1617.csv',\n",
       " 'countyinflow1718.csv',\n",
       " 'countyinflow1819.csv',\n",
       " 'IRSDATA_COPy.ipynb']"
      ]
     },
     "execution_count": 6,
     "metadata": {},
     "output_type": "execute_result"
    }
   ],
   "source": [
    "#path = r'C:\\Users\\Ayaz Rathod\\Desktop\\Migration Data'\n",
    "#filenames = glob.glob(path + \"\\*.csv\")\n",
    "#print(filenames)\n",
    "fileList = os.listdir(a)\n",
    "fileList"
   ]
  },
  {
   "cell_type": "code",
   "execution_count": 7,
   "metadata": {},
   "outputs": [],
   "source": [
    "finalDf= pd.DataFrame()\n",
    "for files in fileList:\n",
    "    if files.endswith(\".csv\"):\n",
    "        #df = pd.read_csv(files)\n",
    "        finalDf = finalDf.append(pd.read_csv(files))\n",
    "        #finalDf= finalDf.append(df)\n",
    "finalDf.to_excel(\"finalDf.xlsx\",index = False)"
   ]
  },
  {
   "cell_type": "code",
   "execution_count": null,
   "metadata": {},
   "outputs": [],
   "source": []
  },
  {
   "cell_type": "code",
   "execution_count": null,
   "metadata": {},
   "outputs": [],
   "source": []
  },
  {
   "cell_type": "code",
   "execution_count": null,
   "metadata": {},
   "outputs": [],
   "source": []
  },
  {
   "cell_type": "code",
   "execution_count": null,
   "metadata": {},
   "outputs": [],
   "source": []
  }
 ],
 "metadata": {
  "kernelspec": {
   "display_name": "Python 3",
   "language": "python",
   "name": "python3"
  },
  "language_info": {
   "codemirror_mode": {
    "name": "ipython",
    "version": 3
   },
   "file_extension": ".py",
   "mimetype": "text/x-python",
   "name": "python",
   "nbconvert_exporter": "python",
   "pygments_lexer": "ipython3",
   "version": "3.8.5"
  }
 },
 "nbformat": 4,
 "nbformat_minor": 4
}
