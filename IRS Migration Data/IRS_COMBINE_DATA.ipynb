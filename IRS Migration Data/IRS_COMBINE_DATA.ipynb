{
 "cells": [
  {
   "cell_type": "markdown",
   "metadata": {},
   "source": [
    "Combing All Data"
   ]
  },
  {
   "cell_type": "code",
   "execution_count": 20,
   "metadata": {},
   "outputs": [],
   "source": [
    "import pandas as pd\n",
    "import glob"
   ]
  },
  {
   "cell_type": "code",
   "execution_count": 32,
   "metadata": {},
   "outputs": [],
   "source": [
    "file = \"IRSDATA.xlsx\""
   ]
  },
  {
   "cell_type": "code",
   "execution_count": 33,
   "metadata": {},
   "outputs": [
    {
     "name": "stdout",
     "output_type": "stream",
     "text": [
      "['C:\\\\Users\\\\Ayaz Rathod\\\\Desktop\\\\Migration Data\\\\countyinflow1516.csv', 'C:\\\\Users\\\\Ayaz Rathod\\\\Desktop\\\\Migration Data\\\\countyinflow1617.csv', 'C:\\\\Users\\\\Ayaz Rathod\\\\Desktop\\\\Migration Data\\\\countyinflow1718.csv', 'C:\\\\Users\\\\Ayaz Rathod\\\\Desktop\\\\Migration Data\\\\countyinflow1819.csv', 'C:\\\\Users\\\\Ayaz Rathod\\\\Desktop\\\\Migration Data\\\\countyoutflow1516.csv', 'C:\\\\Users\\\\Ayaz Rathod\\\\Desktop\\\\Migration Data\\\\countyoutflow1617.csv', 'C:\\\\Users\\\\Ayaz Rathod\\\\Desktop\\\\Migration Data\\\\countyoutflow1718.csv', 'C:\\\\Users\\\\Ayaz Rathod\\\\Desktop\\\\Migration Data\\\\countyoutflow1819.csv', 'C:\\\\Users\\\\Ayaz Rathod\\\\Desktop\\\\Migration Data\\\\stateinflow1516.csv', 'C:\\\\Users\\\\Ayaz Rathod\\\\Desktop\\\\Migration Data\\\\stateinflow1617.csv', 'C:\\\\Users\\\\Ayaz Rathod\\\\Desktop\\\\Migration Data\\\\stateinflow1718.csv', 'C:\\\\Users\\\\Ayaz Rathod\\\\Desktop\\\\Migration Data\\\\stateinflow1819.csv', 'C:\\\\Users\\\\Ayaz Rathod\\\\Desktop\\\\Migration Data\\\\stateoutflow1516.csv', 'C:\\\\Users\\\\Ayaz Rathod\\\\Desktop\\\\Migration Data\\\\stateoutflow1617.csv', 'C:\\\\Users\\\\Ayaz Rathod\\\\Desktop\\\\Migration Data\\\\stateoutflow1819.csv']\n"
     ]
    }
   ],
   "source": [
    "path = r'C:\\Users\\Ayaz Rathod\\Desktop\\Migration Data'\n",
    "filenames = glob.glob(path + \"\\*.csv\")\n",
    "print(filenames)"
   ]
  },
  {
   "cell_type": "code",
   "execution_count": 34,
   "metadata": {},
   "outputs": [],
   "source": [
    "#Initializing data frame\n",
    "finalexcelsheet = pd.DataFrame()"
   ]
  },
  {
   "cell_type": "code",
   "execution_count": 35,
   "metadata": {},
   "outputs": [
    {
     "name": "stdout",
     "output_type": "stream",
     "text": [
      "Empty DataFrame\n",
      "Columns: []\n",
      "Index: []\n",
      "Empty DataFrame\n",
      "Columns: []\n",
      "Index: []\n",
      "Empty DataFrame\n",
      "Columns: []\n",
      "Index: []\n",
      "Empty DataFrame\n",
      "Columns: []\n",
      "Index: []\n",
      "Empty DataFrame\n",
      "Columns: []\n",
      "Index: []\n",
      "Empty DataFrame\n",
      "Columns: []\n",
      "Index: []\n",
      "Empty DataFrame\n",
      "Columns: []\n",
      "Index: []\n",
      "Empty DataFrame\n",
      "Columns: []\n",
      "Index: []\n",
      "Empty DataFrame\n",
      "Columns: []\n",
      "Index: []\n",
      "Empty DataFrame\n",
      "Columns: []\n",
      "Index: []\n",
      "Empty DataFrame\n",
      "Columns: []\n",
      "Index: []\n",
      "Empty DataFrame\n",
      "Columns: []\n",
      "Index: []\n",
      "Empty DataFrame\n",
      "Columns: []\n",
      "Index: []\n",
      "Empty DataFrame\n",
      "Columns: []\n",
      "Index: []\n",
      "Empty DataFrame\n",
      "Columns: []\n",
      "Index: []\n"
     ]
    }
   ],
   "source": [
    "for file in filenames:\n",
    "    finalexcelsheet =finalexcelsheet.append(df,ignore_index = True)\n",
    "    print(finalexcelsheet)"
   ]
  },
  {
   "cell_type": "code",
   "execution_count": 36,
   "metadata": {},
   "outputs": [],
   "source": [
    "df.to_csv(\"IRSDATA.csv\",index = False)"
   ]
  },
  {
   "cell_type": "code",
   "execution_count": null,
   "metadata": {},
   "outputs": [],
   "source": []
  }
 ],
 "metadata": {
  "kernelspec": {
   "display_name": "Python 3",
   "language": "python",
   "name": "python3"
  },
  "language_info": {
   "codemirror_mode": {
    "name": "ipython",
    "version": 3
   },
   "file_extension": ".py",
   "mimetype": "text/x-python",
   "name": "python",
   "nbconvert_exporter": "python",
   "pygments_lexer": "ipython3",
   "version": "3.8.5"
  }
 },
 "nbformat": 4,
 "nbformat_minor": 4
}
