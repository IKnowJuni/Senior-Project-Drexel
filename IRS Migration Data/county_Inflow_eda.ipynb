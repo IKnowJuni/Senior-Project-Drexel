{
 "cells": [
  {
   "cell_type": "markdown",
   "metadata": {},
   "source": [
    "**Name:** Ayaz Rathod <br/>\n",
    "**Project:** Migrator <br/>\n",
    "**IRS Migration county_inflow_Data EDA** <br/>"
   ]
  },
  {
   "cell_type": "code",
   "execution_count": 65,
   "metadata": {},
   "outputs": [],
   "source": [
    "# Imprt the libraries we are going to use\n",
    "import numpy as np\n",
    "import pandas as pd\n",
    "import matplotlib.pyplot as plt\n",
    "%matplotlib inline\n",
    "import seaborn as sns"
   ]
  },
  {
   "cell_type": "code",
   "execution_count": 45,
   "metadata": {},
   "outputs": [],
   "source": [
    "df = pd.read_excel('County_InFlow_Data.xlsx')"
   ]
  },
  {
   "cell_type": "code",
   "execution_count": 46,
   "metadata": {},
   "outputs": [],
   "source": [
    "df1 = df.copy()"
   ]
  },
  {
   "cell_type": "code",
   "execution_count": 47,
   "metadata": {
    "scrolled": true
   },
   "outputs": [
    {
     "data": {
      "text/html": [
       "<div>\n",
       "<style scoped>\n",
       "    .dataframe tbody tr th:only-of-type {\n",
       "        vertical-align: middle;\n",
       "    }\n",
       "\n",
       "    .dataframe tbody tr th {\n",
       "        vertical-align: top;\n",
       "    }\n",
       "\n",
       "    .dataframe thead th {\n",
       "        text-align: right;\n",
       "    }\n",
       "</style>\n",
       "<table border=\"1\" class=\"dataframe\">\n",
       "  <thead>\n",
       "    <tr style=\"text-align: right;\">\n",
       "      <th></th>\n",
       "      <th>y2_statefips</th>\n",
       "      <th>y2_countyfips</th>\n",
       "      <th>y1_statefips</th>\n",
       "      <th>y1_countyfips</th>\n",
       "      <th>y1_state</th>\n",
       "      <th>y1_countyname</th>\n",
       "      <th>n1</th>\n",
       "      <th>n2</th>\n",
       "      <th>agi</th>\n",
       "    </tr>\n",
       "  </thead>\n",
       "  <tbody>\n",
       "    <tr>\n",
       "      <th>0</th>\n",
       "      <td>1</td>\n",
       "      <td>0</td>\n",
       "      <td>96</td>\n",
       "      <td>0</td>\n",
       "      <td>AL</td>\n",
       "      <td>Total Migration-US and Foreign</td>\n",
       "      <td>100390</td>\n",
       "      <td>207334</td>\n",
       "      <td>4835874</td>\n",
       "    </tr>\n",
       "    <tr>\n",
       "      <th>1</th>\n",
       "      <td>1</td>\n",
       "      <td>0</td>\n",
       "      <td>97</td>\n",
       "      <td>0</td>\n",
       "      <td>AL</td>\n",
       "      <td>Total Migration-US</td>\n",
       "      <td>99527</td>\n",
       "      <td>205203</td>\n",
       "      <td>4782089</td>\n",
       "    </tr>\n",
       "    <tr>\n",
       "      <th>2</th>\n",
       "      <td>1</td>\n",
       "      <td>0</td>\n",
       "      <td>97</td>\n",
       "      <td>1</td>\n",
       "      <td>AL</td>\n",
       "      <td>Total Migration-Same State</td>\n",
       "      <td>56323</td>\n",
       "      <td>115151</td>\n",
       "      <td>2486684</td>\n",
       "    </tr>\n",
       "    <tr>\n",
       "      <th>3</th>\n",
       "      <td>1</td>\n",
       "      <td>0</td>\n",
       "      <td>97</td>\n",
       "      <td>3</td>\n",
       "      <td>AL</td>\n",
       "      <td>Total Migration-Different State</td>\n",
       "      <td>43204</td>\n",
       "      <td>90052</td>\n",
       "      <td>2295405</td>\n",
       "    </tr>\n",
       "    <tr>\n",
       "      <th>4</th>\n",
       "      <td>1</td>\n",
       "      <td>0</td>\n",
       "      <td>98</td>\n",
       "      <td>0</td>\n",
       "      <td>AL</td>\n",
       "      <td>Total Migration-Foreign</td>\n",
       "      <td>863</td>\n",
       "      <td>2131</td>\n",
       "      <td>53785</td>\n",
       "    </tr>\n",
       "    <tr>\n",
       "      <th>5</th>\n",
       "      <td>1</td>\n",
       "      <td>1</td>\n",
       "      <td>96</td>\n",
       "      <td>0</td>\n",
       "      <td>AL</td>\n",
       "      <td>Autauga County Total Migration-US and Foreign</td>\n",
       "      <td>1870</td>\n",
       "      <td>4326</td>\n",
       "      <td>94250</td>\n",
       "    </tr>\n",
       "    <tr>\n",
       "      <th>6</th>\n",
       "      <td>1</td>\n",
       "      <td>1</td>\n",
       "      <td>97</td>\n",
       "      <td>0</td>\n",
       "      <td>AL</td>\n",
       "      <td>Autauga County Total Migration-US</td>\n",
       "      <td>1830</td>\n",
       "      <td>4190</td>\n",
       "      <td>91390</td>\n",
       "    </tr>\n",
       "    <tr>\n",
       "      <th>7</th>\n",
       "      <td>1</td>\n",
       "      <td>1</td>\n",
       "      <td>97</td>\n",
       "      <td>1</td>\n",
       "      <td>AL</td>\n",
       "      <td>Autauga County Total Migration-Same State</td>\n",
       "      <td>1173</td>\n",
       "      <td>2529</td>\n",
       "      <td>48813</td>\n",
       "    </tr>\n",
       "    <tr>\n",
       "      <th>8</th>\n",
       "      <td>1</td>\n",
       "      <td>1</td>\n",
       "      <td>97</td>\n",
       "      <td>3</td>\n",
       "      <td>AL</td>\n",
       "      <td>Autauga County Total Migration-Different State</td>\n",
       "      <td>657</td>\n",
       "      <td>1661</td>\n",
       "      <td>42577</td>\n",
       "    </tr>\n",
       "    <tr>\n",
       "      <th>9</th>\n",
       "      <td>1</td>\n",
       "      <td>1</td>\n",
       "      <td>98</td>\n",
       "      <td>0</td>\n",
       "      <td>AL</td>\n",
       "      <td>Autauga County Total Migration-Foreign</td>\n",
       "      <td>40</td>\n",
       "      <td>136</td>\n",
       "      <td>2861</td>\n",
       "    </tr>\n",
       "  </tbody>\n",
       "</table>\n",
       "</div>"
      ],
      "text/plain": [
       "   y2_statefips  y2_countyfips  y1_statefips  y1_countyfips y1_state  \\\n",
       "0             1              0            96              0       AL   \n",
       "1             1              0            97              0       AL   \n",
       "2             1              0            97              1       AL   \n",
       "3             1              0            97              3       AL   \n",
       "4             1              0            98              0       AL   \n",
       "5             1              1            96              0       AL   \n",
       "6             1              1            97              0       AL   \n",
       "7             1              1            97              1       AL   \n",
       "8             1              1            97              3       AL   \n",
       "9             1              1            98              0       AL   \n",
       "\n",
       "                                    y1_countyname      n1      n2      agi  \n",
       "0                  Total Migration-US and Foreign  100390  207334  4835874  \n",
       "1                              Total Migration-US   99527  205203  4782089  \n",
       "2                      Total Migration-Same State   56323  115151  2486684  \n",
       "3                 Total Migration-Different State   43204   90052  2295405  \n",
       "4                         Total Migration-Foreign     863    2131    53785  \n",
       "5   Autauga County Total Migration-US and Foreign    1870    4326    94250  \n",
       "6               Autauga County Total Migration-US    1830    4190    91390  \n",
       "7       Autauga County Total Migration-Same State    1173    2529    48813  \n",
       "8  Autauga County Total Migration-Different State     657    1661    42577  \n",
       "9          Autauga County Total Migration-Foreign      40     136     2861  "
      ]
     },
     "execution_count": 47,
     "metadata": {},
     "output_type": "execute_result"
    }
   ],
   "source": [
    "df1.head(10)"
   ]
  },
  {
   "cell_type": "code",
   "execution_count": 48,
   "metadata": {},
   "outputs": [
    {
     "data": {
      "text/html": [
       "<div>\n",
       "<style scoped>\n",
       "    .dataframe tbody tr th:only-of-type {\n",
       "        vertical-align: middle;\n",
       "    }\n",
       "\n",
       "    .dataframe tbody tr th {\n",
       "        vertical-align: top;\n",
       "    }\n",
       "\n",
       "    .dataframe thead th {\n",
       "        text-align: right;\n",
       "    }\n",
       "</style>\n",
       "<table border=\"1\" class=\"dataframe\">\n",
       "  <thead>\n",
       "    <tr style=\"text-align: right;\">\n",
       "      <th></th>\n",
       "      <th>y2_statefips</th>\n",
       "      <th>y2_countyfips</th>\n",
       "      <th>y1_statefips</th>\n",
       "      <th>y1_countyfips</th>\n",
       "      <th>y1_state</th>\n",
       "      <th>y1_countyname</th>\n",
       "      <th>n1</th>\n",
       "      <th>n2</th>\n",
       "      <th>agi</th>\n",
       "    </tr>\n",
       "  </thead>\n",
       "  <tbody>\n",
       "    <tr>\n",
       "      <th>0</th>\n",
       "      <td>1</td>\n",
       "      <td>0</td>\n",
       "      <td>96</td>\n",
       "      <td>0</td>\n",
       "      <td>AL</td>\n",
       "      <td>Total Migration-US and Foreign</td>\n",
       "      <td>100390</td>\n",
       "      <td>207334</td>\n",
       "      <td>4835874</td>\n",
       "    </tr>\n",
       "    <tr>\n",
       "      <th>1</th>\n",
       "      <td>1</td>\n",
       "      <td>0</td>\n",
       "      <td>97</td>\n",
       "      <td>0</td>\n",
       "      <td>AL</td>\n",
       "      <td>Total Migration-US</td>\n",
       "      <td>99527</td>\n",
       "      <td>205203</td>\n",
       "      <td>4782089</td>\n",
       "    </tr>\n",
       "    <tr>\n",
       "      <th>2</th>\n",
       "      <td>1</td>\n",
       "      <td>0</td>\n",
       "      <td>97</td>\n",
       "      <td>1</td>\n",
       "      <td>AL</td>\n",
       "      <td>Total Migration-Same State</td>\n",
       "      <td>56323</td>\n",
       "      <td>115151</td>\n",
       "      <td>2486684</td>\n",
       "    </tr>\n",
       "    <tr>\n",
       "      <th>3</th>\n",
       "      <td>1</td>\n",
       "      <td>0</td>\n",
       "      <td>97</td>\n",
       "      <td>3</td>\n",
       "      <td>AL</td>\n",
       "      <td>Total Migration-Different State</td>\n",
       "      <td>43204</td>\n",
       "      <td>90052</td>\n",
       "      <td>2295405</td>\n",
       "    </tr>\n",
       "    <tr>\n",
       "      <th>4</th>\n",
       "      <td>1</td>\n",
       "      <td>0</td>\n",
       "      <td>98</td>\n",
       "      <td>0</td>\n",
       "      <td>AL</td>\n",
       "      <td>Total Migration-Foreign</td>\n",
       "      <td>863</td>\n",
       "      <td>2131</td>\n",
       "      <td>53785</td>\n",
       "    </tr>\n",
       "    <tr>\n",
       "      <th>...</th>\n",
       "      <td>...</td>\n",
       "      <td>...</td>\n",
       "      <td>...</td>\n",
       "      <td>...</td>\n",
       "      <td>...</td>\n",
       "      <td>...</td>\n",
       "      <td>...</td>\n",
       "      <td>...</td>\n",
       "      <td>...</td>\n",
       "    </tr>\n",
       "    <tr>\n",
       "      <th>95</th>\n",
       "      <td>1</td>\n",
       "      <td>7</td>\n",
       "      <td>97</td>\n",
       "      <td>1</td>\n",
       "      <td>AL</td>\n",
       "      <td>Bibb County Total Migration-Same State</td>\n",
       "      <td>325</td>\n",
       "      <td>747</td>\n",
       "      <td>13482</td>\n",
       "    </tr>\n",
       "    <tr>\n",
       "      <th>96</th>\n",
       "      <td>1</td>\n",
       "      <td>7</td>\n",
       "      <td>97</td>\n",
       "      <td>3</td>\n",
       "      <td>AL</td>\n",
       "      <td>Bibb County Total Migration-Different State</td>\n",
       "      <td>38</td>\n",
       "      <td>88</td>\n",
       "      <td>1848</td>\n",
       "    </tr>\n",
       "    <tr>\n",
       "      <th>97</th>\n",
       "      <td>1</td>\n",
       "      <td>7</td>\n",
       "      <td>98</td>\n",
       "      <td>0</td>\n",
       "      <td>AL</td>\n",
       "      <td>Bibb County Total Migration-Foreign</td>\n",
       "      <td>-1</td>\n",
       "      <td>-1</td>\n",
       "      <td>-1</td>\n",
       "    </tr>\n",
       "    <tr>\n",
       "      <th>98</th>\n",
       "      <td>1</td>\n",
       "      <td>7</td>\n",
       "      <td>1</td>\n",
       "      <td>7</td>\n",
       "      <td>AL</td>\n",
       "      <td>Bibb County Non-migrants</td>\n",
       "      <td>6227</td>\n",
       "      <td>14522</td>\n",
       "      <td>330041</td>\n",
       "    </tr>\n",
       "    <tr>\n",
       "      <th>99</th>\n",
       "      <td>1</td>\n",
       "      <td>7</td>\n",
       "      <td>1</td>\n",
       "      <td>125</td>\n",
       "      <td>AL</td>\n",
       "      <td>Tuscaloosa County</td>\n",
       "      <td>112</td>\n",
       "      <td>274</td>\n",
       "      <td>4979</td>\n",
       "    </tr>\n",
       "  </tbody>\n",
       "</table>\n",
       "<p>100 rows × 9 columns</p>\n",
       "</div>"
      ],
      "text/plain": [
       "    y2_statefips  y2_countyfips  y1_statefips  y1_countyfips y1_state  \\\n",
       "0              1              0            96              0       AL   \n",
       "1              1              0            97              0       AL   \n",
       "2              1              0            97              1       AL   \n",
       "3              1              0            97              3       AL   \n",
       "4              1              0            98              0       AL   \n",
       "..           ...            ...           ...            ...      ...   \n",
       "95             1              7            97              1       AL   \n",
       "96             1              7            97              3       AL   \n",
       "97             1              7            98              0       AL   \n",
       "98             1              7             1              7       AL   \n",
       "99             1              7             1            125       AL   \n",
       "\n",
       "                                  y1_countyname      n1      n2      agi  \n",
       "0                Total Migration-US and Foreign  100390  207334  4835874  \n",
       "1                            Total Migration-US   99527  205203  4782089  \n",
       "2                    Total Migration-Same State   56323  115151  2486684  \n",
       "3               Total Migration-Different State   43204   90052  2295405  \n",
       "4                       Total Migration-Foreign     863    2131    53785  \n",
       "..                                          ...     ...     ...      ...  \n",
       "95       Bibb County Total Migration-Same State     325     747    13482  \n",
       "96  Bibb County Total Migration-Different State      38      88     1848  \n",
       "97          Bibb County Total Migration-Foreign      -1      -1       -1  \n",
       "98                     Bibb County Non-migrants    6227   14522   330041  \n",
       "99                            Tuscaloosa County     112     274     4979  \n",
       "\n",
       "[100 rows x 9 columns]"
      ]
     },
     "execution_count": 48,
     "metadata": {},
     "output_type": "execute_result"
    }
   ],
   "source": [
    "df1.head(100)"
   ]
  },
  {
   "cell_type": "code",
   "execution_count": 49,
   "metadata": {},
   "outputs": [
    {
     "name": "stdout",
     "output_type": "stream",
     "text": [
      "['y2_statefips' 'y2_countyfips' 'y1_statefips' 'y1_countyfips' 'y1_state'\n",
      " 'y1_countyname' 'n1' 'n2' 'agi']\n"
     ]
    }
   ],
   "source": [
    "print(df1.columns.values)"
   ]
  },
  {
   "cell_type": "code",
   "execution_count": 50,
   "metadata": {},
   "outputs": [],
   "source": [
    "column_names = {\n",
    "    'y2_statefips': 'Destination From State',\n",
    "    'y2_countyfips': 'Destination From County',\n",
    "    'y1_statefips': 'Origin From State Code',\n",
    "    'y1_countyfips': 'Origin From County Code',\n",
    "    'y1_state': 'Origin State',\n",
    "    'y1_countyname': 'Origin County',\n",
    "    'n1': 'Number of Returns',\n",
    "    'n2': 'Number of Exemptions',\n",
    "    'agi': 'Adjusted Gross Income'\n",
    "}\n",
    "\n",
    "df1.rename(columns = column_names, inplace = True)"
   ]
  },
  {
   "cell_type": "code",
   "execution_count": 51,
   "metadata": {},
   "outputs": [
    {
     "data": {
      "text/html": [
       "<div>\n",
       "<style scoped>\n",
       "    .dataframe tbody tr th:only-of-type {\n",
       "        vertical-align: middle;\n",
       "    }\n",
       "\n",
       "    .dataframe tbody tr th {\n",
       "        vertical-align: top;\n",
       "    }\n",
       "\n",
       "    .dataframe thead th {\n",
       "        text-align: right;\n",
       "    }\n",
       "</style>\n",
       "<table border=\"1\" class=\"dataframe\">\n",
       "  <thead>\n",
       "    <tr style=\"text-align: right;\">\n",
       "      <th></th>\n",
       "      <th>Destination From State</th>\n",
       "      <th>Destination From County</th>\n",
       "      <th>Origin From State Code</th>\n",
       "      <th>Origin From County Code</th>\n",
       "      <th>Origin State</th>\n",
       "      <th>Origin County</th>\n",
       "      <th>Number of Returns</th>\n",
       "      <th>Number of Exemptions</th>\n",
       "      <th>Adjusted Gross Income</th>\n",
       "    </tr>\n",
       "  </thead>\n",
       "  <tbody>\n",
       "    <tr>\n",
       "      <th>0</th>\n",
       "      <td>1</td>\n",
       "      <td>0</td>\n",
       "      <td>96</td>\n",
       "      <td>0</td>\n",
       "      <td>AL</td>\n",
       "      <td>Total Migration-US and Foreign</td>\n",
       "      <td>100390</td>\n",
       "      <td>207334</td>\n",
       "      <td>4835874</td>\n",
       "    </tr>\n",
       "    <tr>\n",
       "      <th>1</th>\n",
       "      <td>1</td>\n",
       "      <td>0</td>\n",
       "      <td>97</td>\n",
       "      <td>0</td>\n",
       "      <td>AL</td>\n",
       "      <td>Total Migration-US</td>\n",
       "      <td>99527</td>\n",
       "      <td>205203</td>\n",
       "      <td>4782089</td>\n",
       "    </tr>\n",
       "    <tr>\n",
       "      <th>2</th>\n",
       "      <td>1</td>\n",
       "      <td>0</td>\n",
       "      <td>97</td>\n",
       "      <td>1</td>\n",
       "      <td>AL</td>\n",
       "      <td>Total Migration-Same State</td>\n",
       "      <td>56323</td>\n",
       "      <td>115151</td>\n",
       "      <td>2486684</td>\n",
       "    </tr>\n",
       "    <tr>\n",
       "      <th>3</th>\n",
       "      <td>1</td>\n",
       "      <td>0</td>\n",
       "      <td>97</td>\n",
       "      <td>3</td>\n",
       "      <td>AL</td>\n",
       "      <td>Total Migration-Different State</td>\n",
       "      <td>43204</td>\n",
       "      <td>90052</td>\n",
       "      <td>2295405</td>\n",
       "    </tr>\n",
       "    <tr>\n",
       "      <th>4</th>\n",
       "      <td>1</td>\n",
       "      <td>0</td>\n",
       "      <td>98</td>\n",
       "      <td>0</td>\n",
       "      <td>AL</td>\n",
       "      <td>Total Migration-Foreign</td>\n",
       "      <td>863</td>\n",
       "      <td>2131</td>\n",
       "      <td>53785</td>\n",
       "    </tr>\n",
       "    <tr>\n",
       "      <th>5</th>\n",
       "      <td>1</td>\n",
       "      <td>1</td>\n",
       "      <td>96</td>\n",
       "      <td>0</td>\n",
       "      <td>AL</td>\n",
       "      <td>Autauga County Total Migration-US and Foreign</td>\n",
       "      <td>1870</td>\n",
       "      <td>4326</td>\n",
       "      <td>94250</td>\n",
       "    </tr>\n",
       "    <tr>\n",
       "      <th>6</th>\n",
       "      <td>1</td>\n",
       "      <td>1</td>\n",
       "      <td>97</td>\n",
       "      <td>0</td>\n",
       "      <td>AL</td>\n",
       "      <td>Autauga County Total Migration-US</td>\n",
       "      <td>1830</td>\n",
       "      <td>4190</td>\n",
       "      <td>91390</td>\n",
       "    </tr>\n",
       "    <tr>\n",
       "      <th>7</th>\n",
       "      <td>1</td>\n",
       "      <td>1</td>\n",
       "      <td>97</td>\n",
       "      <td>1</td>\n",
       "      <td>AL</td>\n",
       "      <td>Autauga County Total Migration-Same State</td>\n",
       "      <td>1173</td>\n",
       "      <td>2529</td>\n",
       "      <td>48813</td>\n",
       "    </tr>\n",
       "    <tr>\n",
       "      <th>8</th>\n",
       "      <td>1</td>\n",
       "      <td>1</td>\n",
       "      <td>97</td>\n",
       "      <td>3</td>\n",
       "      <td>AL</td>\n",
       "      <td>Autauga County Total Migration-Different State</td>\n",
       "      <td>657</td>\n",
       "      <td>1661</td>\n",
       "      <td>42577</td>\n",
       "    </tr>\n",
       "    <tr>\n",
       "      <th>9</th>\n",
       "      <td>1</td>\n",
       "      <td>1</td>\n",
       "      <td>98</td>\n",
       "      <td>0</td>\n",
       "      <td>AL</td>\n",
       "      <td>Autauga County Total Migration-Foreign</td>\n",
       "      <td>40</td>\n",
       "      <td>136</td>\n",
       "      <td>2861</td>\n",
       "    </tr>\n",
       "  </tbody>\n",
       "</table>\n",
       "</div>"
      ],
      "text/plain": [
       "   Destination From State  Destination From County  Origin From State Code  \\\n",
       "0                       1                        0                      96   \n",
       "1                       1                        0                      97   \n",
       "2                       1                        0                      97   \n",
       "3                       1                        0                      97   \n",
       "4                       1                        0                      98   \n",
       "5                       1                        1                      96   \n",
       "6                       1                        1                      97   \n",
       "7                       1                        1                      97   \n",
       "8                       1                        1                      97   \n",
       "9                       1                        1                      98   \n",
       "\n",
       "   Origin From County Code Origin State  \\\n",
       "0                        0           AL   \n",
       "1                        0           AL   \n",
       "2                        1           AL   \n",
       "3                        3           AL   \n",
       "4                        0           AL   \n",
       "5                        0           AL   \n",
       "6                        0           AL   \n",
       "7                        1           AL   \n",
       "8                        3           AL   \n",
       "9                        0           AL   \n",
       "\n",
       "                                    Origin County  Number of Returns  \\\n",
       "0                  Total Migration-US and Foreign             100390   \n",
       "1                              Total Migration-US              99527   \n",
       "2                      Total Migration-Same State              56323   \n",
       "3                 Total Migration-Different State              43204   \n",
       "4                         Total Migration-Foreign                863   \n",
       "5   Autauga County Total Migration-US and Foreign               1870   \n",
       "6               Autauga County Total Migration-US               1830   \n",
       "7       Autauga County Total Migration-Same State               1173   \n",
       "8  Autauga County Total Migration-Different State                657   \n",
       "9          Autauga County Total Migration-Foreign                 40   \n",
       "\n",
       "   Number of Exemptions  Adjusted Gross Income  \n",
       "0                207334                4835874  \n",
       "1                205203                4782089  \n",
       "2                115151                2486684  \n",
       "3                 90052                2295405  \n",
       "4                  2131                  53785  \n",
       "5                  4326                  94250  \n",
       "6                  4190                  91390  \n",
       "7                  2529                  48813  \n",
       "8                  1661                  42577  \n",
       "9                   136                   2861  "
      ]
     },
     "execution_count": 51,
     "metadata": {},
     "output_type": "execute_result"
    }
   ],
   "source": [
    "df1.head(10)"
   ]
  },
  {
   "cell_type": "code",
   "execution_count": 52,
   "metadata": {},
   "outputs": [
    {
     "name": "stdout",
     "output_type": "stream",
     "text": [
      "['Destination From State' 'Destination From County'\n",
      " 'Origin From State Code' 'Origin From County Code' 'Origin State'\n",
      " 'Origin County' 'Number of Returns' 'Number of Exemptions'\n",
      " 'Adjusted Gross Income']\n"
     ]
    }
   ],
   "source": [
    "print(df1.columns.values)"
   ]
  },
  {
   "cell_type": "markdown",
   "metadata": {},
   "source": [
    "**DataTypes**<br/>"
   ]
  },
  {
   "cell_type": "code",
   "execution_count": 53,
   "metadata": {},
   "outputs": [
    {
     "data": {
      "text/plain": [
       "Destination From State      int64\n",
       "Destination From County     int64\n",
       "Origin From State Code      int64\n",
       "Origin From County Code     int64\n",
       "Origin State               object\n",
       "Origin County              object\n",
       "Number of Returns           int64\n",
       "Number of Exemptions        int64\n",
       "Adjusted Gross Income       int64\n",
       "dtype: object"
      ]
     },
     "execution_count": 53,
     "metadata": {},
     "output_type": "execute_result"
    }
   ],
   "source": [
    "df1.dtypes"
   ]
  },
  {
   "cell_type": "code",
   "execution_count": 54,
   "metadata": {},
   "outputs": [
    {
     "name": "stdout",
     "output_type": "stream",
     "text": [
      "<class 'pandas.core.frame.DataFrame'>\n",
      "RangeIndex: 356898 entries, 0 to 356897\n",
      "Data columns (total 9 columns):\n",
      " #   Column                   Non-Null Count   Dtype \n",
      "---  ------                   --------------   ----- \n",
      " 0   Destination From State   356898 non-null  int64 \n",
      " 1   Destination From County  356898 non-null  int64 \n",
      " 2   Origin From State Code   356898 non-null  int64 \n",
      " 3   Origin From County Code  356898 non-null  int64 \n",
      " 4   Origin State             356898 non-null  object\n",
      " 5   Origin County            356898 non-null  object\n",
      " 6   Number of Returns        356898 non-null  int64 \n",
      " 7   Number of Exemptions     356898 non-null  int64 \n",
      " 8   Adjusted Gross Income    356898 non-null  int64 \n",
      "dtypes: int64(7), object(2)\n",
      "memory usage: 24.5+ MB\n"
     ]
    }
   ],
   "source": [
    "df1.info()"
   ]
  },
  {
   "cell_type": "code",
   "execution_count": 55,
   "metadata": {},
   "outputs": [
    {
     "data": {
      "text/plain": [
       "Destination From State     0\n",
       "Destination From County    0\n",
       "Origin From State Code     0\n",
       "Origin From County Code    0\n",
       "Origin State               0\n",
       "Origin County              0\n",
       "Number of Returns          0\n",
       "Number of Exemptions       0\n",
       "Adjusted Gross Income      0\n",
       "dtype: int64"
      ]
     },
     "execution_count": 55,
     "metadata": {},
     "output_type": "execute_result"
    }
   ],
   "source": [
    "df1.isnull().sum()"
   ]
  },
  {
   "cell_type": "markdown",
   "metadata": {},
   "source": [
    "**Searching for all Missing Values**"
   ]
  },
  {
   "cell_type": "code",
   "execution_count": 56,
   "metadata": {},
   "outputs": [
    {
     "data": {
      "text/plain": [
       "20338"
      ]
     },
     "execution_count": 56,
     "metadata": {},
     "output_type": "execute_result"
    }
   ],
   "source": [
    "df1.duplicated().sum()"
   ]
  },
  {
   "cell_type": "markdown",
   "metadata": {},
   "source": [
    "**Total number of Columns and Rows in File**"
   ]
  },
  {
   "cell_type": "code",
   "execution_count": 57,
   "metadata": {},
   "outputs": [
    {
     "data": {
      "text/html": [
       "<div>\n",
       "<style scoped>\n",
       "    .dataframe tbody tr th:only-of-type {\n",
       "        vertical-align: middle;\n",
       "    }\n",
       "\n",
       "    .dataframe tbody tr th {\n",
       "        vertical-align: top;\n",
       "    }\n",
       "\n",
       "    .dataframe thead th {\n",
       "        text-align: right;\n",
       "    }\n",
       "</style>\n",
       "<table border=\"1\" class=\"dataframe\">\n",
       "  <thead>\n",
       "    <tr style=\"text-align: right;\">\n",
       "      <th></th>\n",
       "      <th>Destination From State</th>\n",
       "      <th>Destination From County</th>\n",
       "      <th>Origin From State Code</th>\n",
       "      <th>Origin From County Code</th>\n",
       "      <th>Number of Returns</th>\n",
       "      <th>Number of Exemptions</th>\n",
       "      <th>Adjusted Gross Income</th>\n",
       "    </tr>\n",
       "  </thead>\n",
       "  <tbody>\n",
       "    <tr>\n",
       "      <th>count</th>\n",
       "      <td>356898.000000</td>\n",
       "      <td>356898.000000</td>\n",
       "      <td>356898.000000</td>\n",
       "      <td>356898.000000</td>\n",
       "      <td>3.568980e+05</td>\n",
       "      <td>3.568980e+05</td>\n",
       "      <td>3.568980e+05</td>\n",
       "    </tr>\n",
       "    <tr>\n",
       "      <th>mean</th>\n",
       "      <td>29.261910</td>\n",
       "      <td>97.257917</td>\n",
       "      <td>46.524758</td>\n",
       "      <td>57.463852</td>\n",
       "      <td>1.924890e+03</td>\n",
       "      <td>3.912810e+03</td>\n",
       "      <td>1.449642e+05</td>\n",
       "    </tr>\n",
       "    <tr>\n",
       "      <th>std</th>\n",
       "      <td>15.782968</td>\n",
       "      <td>110.968151</td>\n",
       "      <td>28.051969</td>\n",
       "      <td>98.154937</td>\n",
       "      <td>2.515949e+04</td>\n",
       "      <td>5.217191e+04</td>\n",
       "      <td>2.266468e+06</td>\n",
       "    </tr>\n",
       "    <tr>\n",
       "      <th>min</th>\n",
       "      <td>1.000000</td>\n",
       "      <td>0.000000</td>\n",
       "      <td>1.000000</td>\n",
       "      <td>0.000000</td>\n",
       "      <td>-1.000000e+00</td>\n",
       "      <td>-1.000000e+00</td>\n",
       "      <td>-4.126510e+05</td>\n",
       "    </tr>\n",
       "    <tr>\n",
       "      <th>25%</th>\n",
       "      <td>16.000000</td>\n",
       "      <td>31.000000</td>\n",
       "      <td>24.000000</td>\n",
       "      <td>3.000000</td>\n",
       "      <td>2.700000e+01</td>\n",
       "      <td>5.000000e+01</td>\n",
       "      <td>1.372000e+03</td>\n",
       "    </tr>\n",
       "    <tr>\n",
       "      <th>50%</th>\n",
       "      <td>29.000000</td>\n",
       "      <td>71.000000</td>\n",
       "      <td>48.000000</td>\n",
       "      <td>19.000000</td>\n",
       "      <td>5.400000e+01</td>\n",
       "      <td>1.020000e+02</td>\n",
       "      <td>3.029000e+03</td>\n",
       "    </tr>\n",
       "    <tr>\n",
       "      <th>75%</th>\n",
       "      <td>45.000000</td>\n",
       "      <td>121.000000</td>\n",
       "      <td>59.000000</td>\n",
       "      <td>81.000000</td>\n",
       "      <td>1.880000e+02</td>\n",
       "      <td>3.600000e+02</td>\n",
       "      <td>1.028000e+04</td>\n",
       "    </tr>\n",
       "    <tr>\n",
       "      <th>max</th>\n",
       "      <td>56.000000</td>\n",
       "      <td>840.000000</td>\n",
       "      <td>98.000000</td>\n",
       "      <td>840.000000</td>\n",
       "      <td>3.768510e+06</td>\n",
       "      <td>7.841705e+06</td>\n",
       "      <td>3.474391e+08</td>\n",
       "    </tr>\n",
       "  </tbody>\n",
       "</table>\n",
       "</div>"
      ],
      "text/plain": [
       "       Destination From State  Destination From County  \\\n",
       "count           356898.000000            356898.000000   \n",
       "mean                29.261910                97.257917   \n",
       "std                 15.782968               110.968151   \n",
       "min                  1.000000                 0.000000   \n",
       "25%                 16.000000                31.000000   \n",
       "50%                 29.000000                71.000000   \n",
       "75%                 45.000000               121.000000   \n",
       "max                 56.000000               840.000000   \n",
       "\n",
       "       Origin From State Code  Origin From County Code  Number of Returns  \\\n",
       "count           356898.000000            356898.000000       3.568980e+05   \n",
       "mean                46.524758                57.463852       1.924890e+03   \n",
       "std                 28.051969                98.154937       2.515949e+04   \n",
       "min                  1.000000                 0.000000      -1.000000e+00   \n",
       "25%                 24.000000                 3.000000       2.700000e+01   \n",
       "50%                 48.000000                19.000000       5.400000e+01   \n",
       "75%                 59.000000                81.000000       1.880000e+02   \n",
       "max                 98.000000               840.000000       3.768510e+06   \n",
       "\n",
       "       Number of Exemptions  Adjusted Gross Income  \n",
       "count          3.568980e+05           3.568980e+05  \n",
       "mean           3.912810e+03           1.449642e+05  \n",
       "std            5.217191e+04           2.266468e+06  \n",
       "min           -1.000000e+00          -4.126510e+05  \n",
       "25%            5.000000e+01           1.372000e+03  \n",
       "50%            1.020000e+02           3.029000e+03  \n",
       "75%            3.600000e+02           1.028000e+04  \n",
       "max            7.841705e+06           3.474391e+08  "
      ]
     },
     "execution_count": 57,
     "metadata": {},
     "output_type": "execute_result"
    }
   ],
   "source": [
    "df1.describe()"
   ]
  },
  {
   "cell_type": "code",
   "execution_count": 58,
   "metadata": {},
   "outputs": [],
   "source": [
    "import matplotlib.pyplot as plt\n",
    "import seaborn as sns"
   ]
  },
  {
   "cell_type": "code",
   "execution_count": 59,
   "metadata": {},
   "outputs": [],
   "source": [
    "#attributes = df['Destination From State','Destination From County','Origin State','Adjusted Gross Income']\n",
    "#attributes.hist(bins=10, figsize=(25,20))\n",
    "\n",
    "df1['Origin State'] = pd.to_numeric(df1['Adjusted Gross Income'])"
   ]
  },
  {
   "cell_type": "code",
   "execution_count": 60,
   "metadata": {},
   "outputs": [
    {
     "name": "stderr",
     "output_type": "stream",
     "text": [
      "C:\\Users\\Ayaz Rathod\\anaconda3\\lib\\site-packages\\seaborn\\_decorators.py:36: FutureWarning: Pass the following variable as a keyword arg: x. From version 0.12, the only valid positional argument will be `data`, and passing other arguments without an explicit keyword will result in an error or misinterpretation.\n",
      "  warnings.warn(\n"
     ]
    },
    {
     "data": {
      "text/plain": [
       "<AxesSubplot:xlabel='Adjusted Gross Income'>"
      ]
     },
     "execution_count": 60,
     "metadata": {},
     "output_type": "execute_result"
    },
    {
     "data": {
      "image/png": "[encoded data removed]",
      "text/plain": [
       "<Figure size 432x288 with 1 Axes>"
      ]
     },
     "metadata": {
      "needs_background": "light"
     },
     "output_type": "display_data"
    }
   ],
   "source": [
    "sns.boxplot(df1['Adjusted Gross Income'])"
   ]
  },
  {
   "cell_type": "code",
   "execution_count": 61,
   "metadata": {},
   "outputs": [
    {
     "data": {
      "text/plain": [
       "<AxesSubplot:xlabel='Origin County'>"
      ]
     },
     "execution_count": 61,
     "metadata": {},
     "output_type": "execute_result"
    },
    {
     "data": {
      "image/png": "[encoded data removed]",
      "text/plain": [
       "<Figure size 1080x576 with 1 Axes>"
      ]
     },
     "metadata": {
      "needs_background": "light"
     },
     "output_type": "display_data"
    }
   ],
   "source": [
    "h = df1.groupby('Destination From County').head(1)\n",
    "h.plot(x = 'Origin County', y = 'Destination From County', figsize = (15,8))"
   ]
  },
  {
   "cell_type": "code",
   "execution_count": 62,
   "metadata": {},
   "outputs": [],
   "source": [
    "cor = df1[['Destination From State','Destination From County',\n",
    " 'Origin From State Code','Origin From County Code','Origin State',\n",
    " 'Origin County','Number of Returns','Number of Exemptions',\n",
    " 'Adjusted Gross Income']]"
   ]
  },
  {
   "cell_type": "code",
   "execution_count": 63,
   "metadata": {},
   "outputs": [
    {
     "data": {
      "text/plain": [
       "<AxesSubplot:>"
      ]
     },
     "execution_count": 63,
     "metadata": {},
     "output_type": "execute_result"
    },
    {
     "data": {
      "image/png": "[encoded data removed]",
      "text/plain": [
       "<Figure size 432x288 with 2 Axes>"
      ]
     },
     "metadata": {
      "needs_background": "light"
     },
     "output_type": "display_data"
    }
   ],
   "source": [
    "sns.heatmap(cor.corr(),annot=True)"
   ]
  },
  {
   "cell_type": "code",
   "execution_count": 64,
   "metadata": {},
   "outputs": [
    {
     "name": "stdout",
     "output_type": "stream",
     "text": [
      "Origin State\n",
      "-412651       51\n",
      "-328108       47\n",
      "-324221       47\n",
      "-322300       48\n",
      "-205430       51\n",
      "              ..\n",
      " 189030708    17\n",
      " 298006276     6\n",
      " 302754063     6\n",
      " 330740878     6\n",
      " 347439077     6\n",
      "Name: Destination From State, Length: 65954, dtype: int64\n"
     ]
    },
    {
     "data": {
      "image/png": "[encoded data removed]",
      "text/plain": [
       "<Figure size 864x504 with 1 Axes>"
      ]
     },
     "metadata": {
      "needs_background": "light"
     },
     "output_type": "display_data"
    }
   ],
   "source": [
    "test = df1.groupby(['Origin State'])['Destination From State'].agg('sum')\n",
    "test.plot(figsize=(12,7))\n",
    "print(test)"
   ]
  },
  {
   "cell_type": "code",
   "execution_count": null,
   "metadata": {},
   "outputs": [],
   "source": []
  },
  {
   "cell_type": "code",
   "execution_count": null,
   "metadata": {},
   "outputs": [],
   "source": []
  }
 ],
 "metadata": {
  "kernelspec": {
   "display_name": "Python 3",
   "language": "python",
   "name": "python3"
  },
  "language_info": {
   "codemirror_mode": {
    "name": "ipython",
    "version": 3
   },
   "file_extension": ".py",
   "mimetype": "text/x-python",
   "name": "python",
   "nbconvert_exporter": "python",
   "pygments_lexer": "ipython3",
   "version": "3.8.5"
  }
 },
 "nbformat": 4,
 "nbformat_minor": 4
}
