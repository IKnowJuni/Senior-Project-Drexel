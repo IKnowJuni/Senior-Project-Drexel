{
 "cells": [
  {
   "cell_type": "code",
   "execution_count": 1,
   "metadata": {},
   "outputs": [],
   "source": [
    "import os\n",
    "import pandas as pd"
   ]
  },
  {
   "cell_type": "code",
   "execution_count": 2,
   "metadata": {},
   "outputs": [],
   "source": [
    "cwd = os.path.abspath('')"
   ]
  },
  {
   "cell_type": "code",
   "execution_count": 3,
   "metadata": {},
   "outputs": [],
   "source": [
    "files = os.listdir(cwd)"
   ]
  },
  {
   "cell_type": "code",
   "execution_count": 4,
   "metadata": {},
   "outputs": [
    {
     "data": {
      "text/plain": [
       "'C:\\\\Users\\\\Junaid\\\\Projects\\\\Migrator\\\\CountyToCountyMigrationFlow\\\\2015'"
      ]
     },
     "execution_count": 4,
     "metadata": {},
     "output_type": "execute_result"
    }
   ],
   "source": [
    "cwd"
   ]
  },
  {
   "cell_type": "code",
   "execution_count": 5,
   "metadata": {},
   "outputs": [
    {
     "data": {
      "text/plain": [
       "['.ipynb_checkpoints',\n",
       " 'alldata2015.csv',\n",
       " 'county-to-county-2011-2015-ins-outs-nets-gross.xlsx',\n",
       " 'Separatesheets-2015.ipynb']"
      ]
     },
     "execution_count": 5,
     "metadata": {},
     "output_type": "execute_result"
    }
   ],
   "source": [
    "files"
   ]
  },
  {
   "cell_type": "code",
   "execution_count": 6,
   "metadata": {},
   "outputs": [],
   "source": [
    "df_total = pd.DataFrame()"
   ]
  },
  {
   "cell_type": "code",
   "execution_count": 7,
   "metadata": {},
   "outputs": [
    {
     "data": {
      "text/html": [
       "<div>\n",
       "<style scoped>\n",
       "    .dataframe tbody tr th:only-of-type {\n",
       "        vertical-align: middle;\n",
       "    }\n",
       "\n",
       "    .dataframe tbody tr th {\n",
       "        vertical-align: top;\n",
       "    }\n",
       "\n",
       "    .dataframe thead th {\n",
       "        text-align: right;\n",
       "    }\n",
       "</style>\n",
       "<table border=\"1\" class=\"dataframe\">\n",
       "  <thead>\n",
       "    <tr style=\"text-align: right;\">\n",
       "      <th></th>\n",
       "    </tr>\n",
       "  </thead>\n",
       "  <tbody>\n",
       "  </tbody>\n",
       "</table>\n",
       "</div>"
      ],
      "text/plain": [
       "Empty DataFrame\n",
       "Columns: []\n",
       "Index: []"
      ]
     },
     "execution_count": 7,
     "metadata": {},
     "output_type": "execute_result"
    }
   ],
   "source": [
    "df_total"
   ]
  },
  {
   "cell_type": "code",
   "execution_count": 8,
   "metadata": {},
   "outputs": [],
   "source": [
    "# loop through Excel files\n",
    "for file in files:\n",
    "    if file.endswith('.xlsx'):\n",
    "        excel_file = pd.ExcelFile(file)\n",
    "        sheets = excel_file.sheet_names\n",
    "        # loop through sheets inside an Excel file\n",
    "        for sheet in sheets:\n",
    "            df = excel_file.parse(sheet_name = sheet)\n",
    "            df = df.iloc[2:]\n",
    "            df = df.iloc[:-6]\n",
    "            df['year'] = 2015\n",
    "            df_total = df_total.append(df)"
   ]
  },
  {
   "cell_type": "code",
   "execution_count": 9,
   "metadata": {},
   "outputs": [],
   "source": [
    "column_names = {\n",
    "    'Table with column headers in rows 2 through 3.': 'State Code A',\n",
    "    'Unnamed: 1': 'FIPS County Code of A',\n",
    "    'Unnamed: 2': 'SIFR Code of B',\n",
    "    'Unnamed: 3': 'FIPS County Code of A',\n",
    "    'Unnamed: 4': 'State Name of A',\n",
    "    'Unnamed: 5': 'County Name of A',\n",
    "    'Unnamed: 6': 'SIFR Name of B',\n",
    "    'Unnamed: 7': 'County Name of B',\n",
    "    'Unnamed: 8': 'Flow from B to A',\n",
    "    'Unnamed: 9': 'MOE1',\n",
    "    'Unnamed: 10': 'Counterflow from A to B',\n",
    "    'Unnamed: 11': 'MOE2',\n",
    "    'Unnamed: 12': 'Net Migration from B to A',\n",
    "    'Unnamed: 13': 'MOE3',\n",
    "    'Unnamed: 14': 'Gross Migration between A and B',\n",
    "    'Unnamed: 15': 'MOE4'\n",
    "}\n",
    "\n",
    "df_total.rename(columns = column_names, inplace = True)\n",
    "df_total.to_csv('alldata2015.csv', index=False)"
   ]
  },
  {
   "cell_type": "code",
   "execution_count": 9,
   "metadata": {},
   "outputs": [],
   "source": [
    "#file = 'county-to-county-2011-2015-ins-outs-nets-gross.xlsx'"
   ]
  },
  {
   "cell_type": "code",
   "execution_count": 10,
   "metadata": {},
   "outputs": [],
   "source": [
    "# try:\n",
    "#     excelapp = xw.App(visible=False)\n",
    "#     wb = excelapp.books.open(file)\n",
    "#     for i in wb.sheets:\n",
    "#         i.api.Copy()\n",
    "#         newwb = xw.books.active\n",
    "#         newwb.save(f'C:/Users/Junaid/Projects/Migrator/CountyToCountyMigrationFlow/2015/state/{i.name}.xlsx')\n",
    "#         newwb.close()\n",
    "# finally:\n",
    "#     excelapp.quit()"
   ]
  },
  {
   "cell_type": "code",
   "execution_count": 11,
   "metadata": {},
   "outputs": [],
   "source": [
    "# l = [pd.read_excel(filename) for filename in glob.glob(\"C:/Users/Junaid/Projects/Migrator/CountyToCountyMigrationFlow/2015/*.xlsx\")]\n",
    "# df = pd.concat(l, axis=0)"
   ]
  },
  {
   "cell_type": "code",
   "execution_count": 12,
   "metadata": {},
   "outputs": [],
   "source": [
    "# df.to_excel('C:/Users/Junaid/Projects/Migrator/CountyToCountyMigrationFlow/alldata2015.xlsx', index=False)"
   ]
  },
  {
   "cell_type": "markdown",
   "metadata": {},
   "source": [
    "# The END."
   ]
  }
 ],
 "metadata": {
  "kernelspec": {
   "display_name": "Python 3",
   "language": "python",
   "name": "python3"
  },
  "language_info": {
   "codemirror_mode": {
    "name": "ipython",
    "version": 3
   },
   "file_extension": ".py",
   "mimetype": "text/x-python",
   "name": "python",
   "nbconvert_exporter": "python",
   "pygments_lexer": "ipython3",
   "version": "3.8.5"
  }
 },
 "nbformat": 4,
 "nbformat_minor": 4
}
